{
 "cells": [
  {
   "cell_type": "markdown",
   "metadata": {},
   "source": [
    "## TRAINING DATA - PRE PROCESSING STEPS "
   ]
  },
  {
   "cell_type": "code",
   "execution_count": 199,
   "metadata": {},
   "outputs": [],
   "source": [
    "import pandas as pd\n",
    "import numpy as np\n",
    "from sklearn.model_selection import train_test_split\n",
    "#!pip install ipaddress\n",
    "import ipaddress\n",
    "\n",
    "from sklearn.ensemble import GradientBoostingClassifier\n",
    "from sklearn.model_selection import GridSearchCV\n",
    "from sklearn.svm import SVC"
   ]
  },
  {
   "cell_type": "code",
   "execution_count": 200,
   "metadata": {},
   "outputs": [],
   "source": [
    "order = pd.read_csv('train_order_data.csv')\n",
    "merch = pd.read_csv('train_merchant_data.csv')\n",
    "target = pd.read_csv('train.csv')\n",
    "ip_country = pd.read_csv('ip_boundaries_countries.csv')"
   ]
  },
  {
   "cell_type": "code",
   "execution_count": 201,
   "metadata": {},
   "outputs": [
    {
     "data": {
      "text/plain": [
       "54213"
      ]
     },
     "execution_count": 201,
     "metadata": {},
     "output_type": "execute_result"
    }
   ],
   "source": [
    "#Sanity Check for Train Dataset (Orders)\n",
    "order.head()\n",
    "order.count() #54213\n",
    "order['Order_ID'].nunique() #54213 -- No duplicates found on order ID "
   ]
  },
  {
   "cell_type": "code",
   "execution_count": 202,
   "metadata": {},
   "outputs": [
    {
     "data": {
      "text/plain": [
       "54213"
      ]
     },
     "execution_count": 202,
     "metadata": {},
     "output_type": "execute_result"
    }
   ],
   "source": [
    "#Sanity Check for Train Dataset (Merchants)\n",
    "merch.count() #54213\n",
    "merch['Merchant_ID'].nunique() #54213 -- No duplicates found on Merchant_ID"
   ]
  },
  {
   "cell_type": "code",
   "execution_count": 203,
   "metadata": {
    "scrolled": false
   },
   "outputs": [
    {
     "data": {
      "text/html": [
       "<div>\n",
       "<style scoped>\n",
       "    .dataframe tbody tr th:only-of-type {\n",
       "        vertical-align: middle;\n",
       "    }\n",
       "\n",
       "    .dataframe tbody tr th {\n",
       "        vertical-align: top;\n",
       "    }\n",
       "\n",
       "    .dataframe thead th {\n",
       "        text-align: right;\n",
       "    }\n",
       "</style>\n",
       "<table border=\"1\" class=\"dataframe\">\n",
       "  <thead>\n",
       "    <tr style=\"text-align: right;\">\n",
       "      <th></th>\n",
       "      <th>Ecommerce_Provider_ID</th>\n",
       "      <th>Merchant_ID</th>\n",
       "      <th>Merchant_Registration_Date</th>\n",
       "      <th>Registered_Device_ID</th>\n",
       "      <th>Gender</th>\n",
       "      <th>Age</th>\n",
       "      <th>IP_Address</th>\n",
       "    </tr>\n",
       "  </thead>\n",
       "  <tbody>\n",
       "    <tr>\n",
       "      <th>0</th>\n",
       "      <td>1746213</td>\n",
       "      <td>50448</td>\n",
       "      <td>2018-05-01 21:15:11</td>\n",
       "      <td>VATQMMZTVOZUT</td>\n",
       "      <td>F</td>\n",
       "      <td>39</td>\n",
       "      <td>48.151.136.76</td>\n",
       "    </tr>\n",
       "    <tr>\n",
       "      <th>1</th>\n",
       "      <td>1746213</td>\n",
       "      <td>338754</td>\n",
       "      <td>2018-04-14 10:13:00</td>\n",
       "      <td>LJCILLBRQZNKS</td>\n",
       "      <td>M</td>\n",
       "      <td>35</td>\n",
       "      <td>94.9.145.169</td>\n",
       "    </tr>\n",
       "    <tr>\n",
       "      <th>2</th>\n",
       "      <td>1746213</td>\n",
       "      <td>291127</td>\n",
       "      <td>2018-06-20 07:44:22</td>\n",
       "      <td>JFVHSUGKDAYZV</td>\n",
       "      <td>F</td>\n",
       "      <td>40</td>\n",
       "      <td>58.94.157.121</td>\n",
       "    </tr>\n",
       "    <tr>\n",
       "      <th>3</th>\n",
       "      <td>1746213</td>\n",
       "      <td>319919</td>\n",
       "      <td>2018-06-27 01:41:39</td>\n",
       "      <td>WFRXMPLQYXRMY</td>\n",
       "      <td>M</td>\n",
       "      <td>37</td>\n",
       "      <td>193.187.41.186</td>\n",
       "    </tr>\n",
       "    <tr>\n",
       "      <th>4</th>\n",
       "      <td>1746213</td>\n",
       "      <td>195911</td>\n",
       "      <td>2018-01-05 00:55:41</td>\n",
       "      <td>GGHKWMSWHCMID</td>\n",
       "      <td>F</td>\n",
       "      <td>27</td>\n",
       "      <td>125.96.20.172</td>\n",
       "    </tr>\n",
       "  </tbody>\n",
       "</table>\n",
       "</div>"
      ],
      "text/plain": [
       "   Ecommerce_Provider_ID  Merchant_ID Merchant_Registration_Date  \\\n",
       "0                1746213        50448        2018-05-01 21:15:11   \n",
       "1                1746213       338754        2018-04-14 10:13:00   \n",
       "2                1746213       291127        2018-06-20 07:44:22   \n",
       "3                1746213       319919        2018-06-27 01:41:39   \n",
       "4                1746213       195911        2018-01-05 00:55:41   \n",
       "\n",
       "  Registered_Device_ID Gender  Age      IP_Address  \n",
       "0        VATQMMZTVOZUT      F   39   48.151.136.76  \n",
       "1        LJCILLBRQZNKS      M   35    94.9.145.169  \n",
       "2        JFVHSUGKDAYZV      F   40   58.94.157.121  \n",
       "3        WFRXMPLQYXRMY      M   37  193.187.41.186  \n",
       "4        GGHKWMSWHCMID      F   27   125.96.20.172  "
      ]
     },
     "execution_count": 203,
     "metadata": {},
     "output_type": "execute_result"
    }
   ],
   "source": [
    "merch.head()"
   ]
  },
  {
   "cell_type": "code",
   "execution_count": 204,
   "metadata": {},
   "outputs": [
    {
     "data": {
      "text/plain": [
       "54213"
      ]
     },
     "execution_count": 204,
     "metadata": {},
     "output_type": "execute_result"
    }
   ],
   "source": [
    "#Customer_id and Order ID are almost varying by record. Can be dropped \n",
    "\n",
    "order['Customer_ID'].nunique() #34081\n",
    "order['Order_ID'].nunique() #54213 - No predictive power"
   ]
  },
  {
   "cell_type": "code",
   "execution_count": 205,
   "metadata": {
    "scrolled": true
   },
   "outputs": [
    {
     "data": {
      "text/html": [
       "<div>\n",
       "<style scoped>\n",
       "    .dataframe tbody tr th:only-of-type {\n",
       "        vertical-align: middle;\n",
       "    }\n",
       "\n",
       "    .dataframe tbody tr th {\n",
       "        vertical-align: top;\n",
       "    }\n",
       "\n",
       "    .dataframe thead th {\n",
       "        text-align: right;\n",
       "    }\n",
       "</style>\n",
       "<table border=\"1\" class=\"dataframe\">\n",
       "  <thead>\n",
       "    <tr style=\"text-align: right;\">\n",
       "      <th></th>\n",
       "      <th>Customer_ID</th>\n",
       "      <th>Order_ID</th>\n",
       "      <th>Date_of_Order</th>\n",
       "      <th>Order_Value_USD</th>\n",
       "      <th>Order_Source</th>\n",
       "      <th>Order_Payment_Method</th>\n",
       "      <th>Merchant_ID</th>\n",
       "    </tr>\n",
       "  </thead>\n",
       "  <tbody>\n",
       "    <tr>\n",
       "      <th>0</th>\n",
       "      <td>126221</td>\n",
       "      <td>37cea9512f8d</td>\n",
       "      <td>4/29/2018 16:39</td>\n",
       "      <td>148</td>\n",
       "      <td>Direct</td>\n",
       "      <td>Credit Card</td>\n",
       "      <td>124231</td>\n",
       "    </tr>\n",
       "    <tr>\n",
       "      <th>1</th>\n",
       "      <td>115471</td>\n",
       "      <td>09f12e6efde2</td>\n",
       "      <td>6/16/2018 17:05</td>\n",
       "      <td>145</td>\n",
       "      <td>SEO</td>\n",
       "      <td>Credit Card</td>\n",
       "      <td>136178</td>\n",
       "    </tr>\n",
       "    <tr>\n",
       "      <th>2</th>\n",
       "      <td>151786</td>\n",
       "      <td>4e69e956e159</td>\n",
       "      <td>10/26/2018 18:00</td>\n",
       "      <td>62</td>\n",
       "      <td>Ads</td>\n",
       "      <td>Internet Banking</td>\n",
       "      <td>198611</td>\n",
       "    </tr>\n",
       "    <tr>\n",
       "      <th>3</th>\n",
       "      <td>140456</td>\n",
       "      <td>663443aaeb82</td>\n",
       "      <td>12/12/2018 5:41</td>\n",
       "      <td>28</td>\n",
       "      <td>SEO</td>\n",
       "      <td>Debit Card</td>\n",
       "      <td>127993</td>\n",
       "    </tr>\n",
       "    <tr>\n",
       "      <th>4</th>\n",
       "      <td>114721</td>\n",
       "      <td>99258810c121</td>\n",
       "      <td>9/20/2018 11:06</td>\n",
       "      <td>70</td>\n",
       "      <td>Ads</td>\n",
       "      <td>Credit Card</td>\n",
       "      <td>250146</td>\n",
       "    </tr>\n",
       "  </tbody>\n",
       "</table>\n",
       "</div>"
      ],
      "text/plain": [
       "   Customer_ID      Order_ID     Date_of_Order  Order_Value_USD Order_Source  \\\n",
       "0       126221  37cea9512f8d   4/29/2018 16:39              148       Direct   \n",
       "1       115471  09f12e6efde2   6/16/2018 17:05              145          SEO   \n",
       "2       151786  4e69e956e159  10/26/2018 18:00               62          Ads   \n",
       "3       140456  663443aaeb82   12/12/2018 5:41               28          SEO   \n",
       "4       114721  99258810c121   9/20/2018 11:06               70          Ads   \n",
       "\n",
       "  Order_Payment_Method  Merchant_ID  \n",
       "0          Credit Card       124231  \n",
       "1          Credit Card       136178  \n",
       "2     Internet Banking       198611  \n",
       "3           Debit Card       127993  \n",
       "4          Credit Card       250146  "
      ]
     },
     "execution_count": 205,
     "metadata": {},
     "output_type": "execute_result"
    }
   ],
   "source": [
    "order.head()"
   ]
  },
  {
   "cell_type": "code",
   "execution_count": 206,
   "metadata": {},
   "outputs": [
    {
     "data": {
      "text/html": [
       "<div>\n",
       "<style scoped>\n",
       "    .dataframe tbody tr th:only-of-type {\n",
       "        vertical-align: middle;\n",
       "    }\n",
       "\n",
       "    .dataframe tbody tr th {\n",
       "        vertical-align: top;\n",
       "    }\n",
       "\n",
       "    .dataframe thead th {\n",
       "        text-align: right;\n",
       "    }\n",
       "</style>\n",
       "<table border=\"1\" class=\"dataframe\">\n",
       "  <thead>\n",
       "    <tr style=\"text-align: right;\">\n",
       "      <th></th>\n",
       "      <th>Customer_ID</th>\n",
       "      <th>Order_ID</th>\n",
       "      <th>Date_of_Order</th>\n",
       "      <th>Order_Value_USD</th>\n",
       "      <th>Order_Source</th>\n",
       "      <th>Order_Payment_Method</th>\n",
       "      <th>Merchant_ID</th>\n",
       "      <th>Ecommerce_Provider_ID</th>\n",
       "      <th>Merchant_Registration_Date</th>\n",
       "      <th>Registered_Device_ID</th>\n",
       "      <th>Gender</th>\n",
       "      <th>Age</th>\n",
       "      <th>IP_Address</th>\n",
       "    </tr>\n",
       "  </thead>\n",
       "  <tbody>\n",
       "    <tr>\n",
       "      <th>0</th>\n",
       "      <td>126221</td>\n",
       "      <td>37cea9512f8d</td>\n",
       "      <td>4/29/2018 16:39</td>\n",
       "      <td>148</td>\n",
       "      <td>Direct</td>\n",
       "      <td>Credit Card</td>\n",
       "      <td>124231</td>\n",
       "      <td>1746213</td>\n",
       "      <td>2018-04-19 00:48:20</td>\n",
       "      <td>BEJVAJMFDUVOQ</td>\n",
       "      <td>M</td>\n",
       "      <td>30</td>\n",
       "      <td>37.113.112.143</td>\n",
       "    </tr>\n",
       "    <tr>\n",
       "      <th>1</th>\n",
       "      <td>115471</td>\n",
       "      <td>09f12e6efde2</td>\n",
       "      <td>6/16/2018 17:05</td>\n",
       "      <td>145</td>\n",
       "      <td>SEO</td>\n",
       "      <td>Credit Card</td>\n",
       "      <td>136178</td>\n",
       "      <td>1746213</td>\n",
       "      <td>2018-05-15 23:30:37</td>\n",
       "      <td>GFHLOGZGFHNYH</td>\n",
       "      <td>F</td>\n",
       "      <td>20</td>\n",
       "      <td>190.255.172.133</td>\n",
       "    </tr>\n",
       "    <tr>\n",
       "      <th>2</th>\n",
       "      <td>151786</td>\n",
       "      <td>4e69e956e159</td>\n",
       "      <td>10/26/2018 18:00</td>\n",
       "      <td>62</td>\n",
       "      <td>Ads</td>\n",
       "      <td>Internet Banking</td>\n",
       "      <td>198611</td>\n",
       "      <td>1746213</td>\n",
       "      <td>2018-08-11 04:12:15</td>\n",
       "      <td>MTELXLHIBWHGI</td>\n",
       "      <td>F</td>\n",
       "      <td>46</td>\n",
       "      <td>130.243.149.190</td>\n",
       "    </tr>\n",
       "    <tr>\n",
       "      <th>3</th>\n",
       "      <td>140456</td>\n",
       "      <td>663443aaeb82</td>\n",
       "      <td>12/12/2018 5:41</td>\n",
       "      <td>28</td>\n",
       "      <td>SEO</td>\n",
       "      <td>Debit Card</td>\n",
       "      <td>127993</td>\n",
       "      <td>1746213</td>\n",
       "      <td>2018-08-17 01:52:14</td>\n",
       "      <td>ZPJCMOXVRXVJF</td>\n",
       "      <td>M</td>\n",
       "      <td>37</td>\n",
       "      <td>48.250.147.203</td>\n",
       "    </tr>\n",
       "    <tr>\n",
       "      <th>4</th>\n",
       "      <td>114721</td>\n",
       "      <td>99258810c121</td>\n",
       "      <td>9/20/2018 11:06</td>\n",
       "      <td>70</td>\n",
       "      <td>Ads</td>\n",
       "      <td>Credit Card</td>\n",
       "      <td>250146</td>\n",
       "      <td>1746213</td>\n",
       "      <td>2018-05-26 11:58:33</td>\n",
       "      <td>NVDDVXILKZTVO</td>\n",
       "      <td>F</td>\n",
       "      <td>26</td>\n",
       "      <td>212.167.41.153</td>\n",
       "    </tr>\n",
       "  </tbody>\n",
       "</table>\n",
       "</div>"
      ],
      "text/plain": [
       "   Customer_ID      Order_ID     Date_of_Order  Order_Value_USD Order_Source  \\\n",
       "0       126221  37cea9512f8d   4/29/2018 16:39              148       Direct   \n",
       "1       115471  09f12e6efde2   6/16/2018 17:05              145          SEO   \n",
       "2       151786  4e69e956e159  10/26/2018 18:00               62          Ads   \n",
       "3       140456  663443aaeb82   12/12/2018 5:41               28          SEO   \n",
       "4       114721  99258810c121   9/20/2018 11:06               70          Ads   \n",
       "\n",
       "  Order_Payment_Method  Merchant_ID  Ecommerce_Provider_ID  \\\n",
       "0          Credit Card       124231                1746213   \n",
       "1          Credit Card       136178                1746213   \n",
       "2     Internet Banking       198611                1746213   \n",
       "3           Debit Card       127993                1746213   \n",
       "4          Credit Card       250146                1746213   \n",
       "\n",
       "  Merchant_Registration_Date Registered_Device_ID Gender  Age       IP_Address  \n",
       "0        2018-04-19 00:48:20        BEJVAJMFDUVOQ      M   30   37.113.112.143  \n",
       "1        2018-05-15 23:30:37        GFHLOGZGFHNYH      F   20  190.255.172.133  \n",
       "2        2018-08-11 04:12:15        MTELXLHIBWHGI      F   46  130.243.149.190  \n",
       "3        2018-08-17 01:52:14        ZPJCMOXVRXVJF      M   37   48.250.147.203  \n",
       "4        2018-05-26 11:58:33        NVDDVXILKZTVO      F   26   212.167.41.153  "
      ]
     },
     "execution_count": 206,
     "metadata": {},
     "output_type": "execute_result"
    }
   ],
   "source": [
    "#join orders and merchants data on Merchant ID \n",
    "merged_data = pd.merge(order, merch, how='inner', on = 'Merchant_ID') \n",
    "merged_data.head()"
   ]
  },
  {
   "cell_type": "code",
   "execution_count": 207,
   "metadata": {},
   "outputs": [],
   "source": [
    "del(order,merch)"
   ]
  },
  {
   "cell_type": "code",
   "execution_count": 208,
   "metadata": {},
   "outputs": [
    {
     "data": {
      "text/plain": [
       "54213"
      ]
     },
     "execution_count": 208,
     "metadata": {},
     "output_type": "execute_result"
    }
   ],
   "source": [
    "target.head()\n",
    "target['Merchant_ID'].nunique() #54213 -- No duplicates on Merchant ID. OK to join \n"
   ]
  },
  {
   "cell_type": "code",
   "execution_count": 209,
   "metadata": {},
   "outputs": [],
   "source": [
    "#join train data with y_train data to get it all together\n",
    "merged_data = pd.merge(merged_data, target, how='inner', on = 'Merchant_ID') "
   ]
  },
  {
   "cell_type": "code",
   "execution_count": 210,
   "metadata": {},
   "outputs": [
    {
     "name": "stdout",
     "output_type": "stream",
     "text": [
      "Customer_ID                   54213\n",
      "Order_ID                      54213\n",
      "Date_of_Order                 54213\n",
      "Order_Value_USD               54213\n",
      "Order_Source                  54213\n",
      "Order_Payment_Method          54213\n",
      "Merchant_ID                   54213\n",
      "Ecommerce_Provider_ID         54213\n",
      "Merchant_Registration_Date    54213\n",
      "Registered_Device_ID          54213\n",
      "Gender                        54213\n",
      "Age                           54213\n",
      "IP_Address                    54213\n",
      "Fraudster                     54213\n",
      "dtype: int64\n"
     ]
    },
    {
     "data": {
      "text/html": [
       "<div>\n",
       "<style scoped>\n",
       "    .dataframe tbody tr th:only-of-type {\n",
       "        vertical-align: middle;\n",
       "    }\n",
       "\n",
       "    .dataframe tbody tr th {\n",
       "        vertical-align: top;\n",
       "    }\n",
       "\n",
       "    .dataframe thead th {\n",
       "        text-align: right;\n",
       "    }\n",
       "</style>\n",
       "<table border=\"1\" class=\"dataframe\">\n",
       "  <thead>\n",
       "    <tr style=\"text-align: right;\">\n",
       "      <th></th>\n",
       "      <th>Customer_ID</th>\n",
       "      <th>Order_ID</th>\n",
       "      <th>Date_of_Order</th>\n",
       "      <th>Order_Value_USD</th>\n",
       "      <th>Order_Source</th>\n",
       "      <th>Order_Payment_Method</th>\n",
       "      <th>Merchant_ID</th>\n",
       "      <th>Ecommerce_Provider_ID</th>\n",
       "      <th>Merchant_Registration_Date</th>\n",
       "      <th>Registered_Device_ID</th>\n",
       "      <th>Gender</th>\n",
       "      <th>Age</th>\n",
       "      <th>IP_Address</th>\n",
       "      <th>Fraudster</th>\n",
       "    </tr>\n",
       "  </thead>\n",
       "  <tbody>\n",
       "    <tr>\n",
       "      <th>0</th>\n",
       "      <td>126221</td>\n",
       "      <td>37cea9512f8d</td>\n",
       "      <td>4/29/2018 16:39</td>\n",
       "      <td>148</td>\n",
       "      <td>Direct</td>\n",
       "      <td>Credit Card</td>\n",
       "      <td>124231</td>\n",
       "      <td>1746213</td>\n",
       "      <td>2018-04-19 00:48:20</td>\n",
       "      <td>BEJVAJMFDUVOQ</td>\n",
       "      <td>M</td>\n",
       "      <td>30</td>\n",
       "      <td>37.113.112.143</td>\n",
       "      <td>0</td>\n",
       "    </tr>\n",
       "    <tr>\n",
       "      <th>1</th>\n",
       "      <td>115471</td>\n",
       "      <td>09f12e6efde2</td>\n",
       "      <td>6/16/2018 17:05</td>\n",
       "      <td>145</td>\n",
       "      <td>SEO</td>\n",
       "      <td>Credit Card</td>\n",
       "      <td>136178</td>\n",
       "      <td>1746213</td>\n",
       "      <td>2018-05-15 23:30:37</td>\n",
       "      <td>GFHLOGZGFHNYH</td>\n",
       "      <td>F</td>\n",
       "      <td>20</td>\n",
       "      <td>190.255.172.133</td>\n",
       "      <td>0</td>\n",
       "    </tr>\n",
       "    <tr>\n",
       "      <th>2</th>\n",
       "      <td>151786</td>\n",
       "      <td>4e69e956e159</td>\n",
       "      <td>10/26/2018 18:00</td>\n",
       "      <td>62</td>\n",
       "      <td>Ads</td>\n",
       "      <td>Internet Banking</td>\n",
       "      <td>198611</td>\n",
       "      <td>1746213</td>\n",
       "      <td>2018-08-11 04:12:15</td>\n",
       "      <td>MTELXLHIBWHGI</td>\n",
       "      <td>F</td>\n",
       "      <td>46</td>\n",
       "      <td>130.243.149.190</td>\n",
       "      <td>1</td>\n",
       "    </tr>\n",
       "    <tr>\n",
       "      <th>3</th>\n",
       "      <td>140456</td>\n",
       "      <td>663443aaeb82</td>\n",
       "      <td>12/12/2018 5:41</td>\n",
       "      <td>28</td>\n",
       "      <td>SEO</td>\n",
       "      <td>Debit Card</td>\n",
       "      <td>127993</td>\n",
       "      <td>1746213</td>\n",
       "      <td>2018-08-17 01:52:14</td>\n",
       "      <td>ZPJCMOXVRXVJF</td>\n",
       "      <td>M</td>\n",
       "      <td>37</td>\n",
       "      <td>48.250.147.203</td>\n",
       "      <td>0</td>\n",
       "    </tr>\n",
       "    <tr>\n",
       "      <th>4</th>\n",
       "      <td>114721</td>\n",
       "      <td>99258810c121</td>\n",
       "      <td>9/20/2018 11:06</td>\n",
       "      <td>70</td>\n",
       "      <td>Ads</td>\n",
       "      <td>Credit Card</td>\n",
       "      <td>250146</td>\n",
       "      <td>1746213</td>\n",
       "      <td>2018-05-26 11:58:33</td>\n",
       "      <td>NVDDVXILKZTVO</td>\n",
       "      <td>F</td>\n",
       "      <td>26</td>\n",
       "      <td>212.167.41.153</td>\n",
       "      <td>0</td>\n",
       "    </tr>\n",
       "  </tbody>\n",
       "</table>\n",
       "</div>"
      ],
      "text/plain": [
       "   Customer_ID      Order_ID     Date_of_Order  Order_Value_USD Order_Source  \\\n",
       "0       126221  37cea9512f8d   4/29/2018 16:39              148       Direct   \n",
       "1       115471  09f12e6efde2   6/16/2018 17:05              145          SEO   \n",
       "2       151786  4e69e956e159  10/26/2018 18:00               62          Ads   \n",
       "3       140456  663443aaeb82   12/12/2018 5:41               28          SEO   \n",
       "4       114721  99258810c121   9/20/2018 11:06               70          Ads   \n",
       "\n",
       "  Order_Payment_Method  Merchant_ID  Ecommerce_Provider_ID  \\\n",
       "0          Credit Card       124231                1746213   \n",
       "1          Credit Card       136178                1746213   \n",
       "2     Internet Banking       198611                1746213   \n",
       "3           Debit Card       127993                1746213   \n",
       "4          Credit Card       250146                1746213   \n",
       "\n",
       "  Merchant_Registration_Date Registered_Device_ID Gender  Age  \\\n",
       "0        2018-04-19 00:48:20        BEJVAJMFDUVOQ      M   30   \n",
       "1        2018-05-15 23:30:37        GFHLOGZGFHNYH      F   20   \n",
       "2        2018-08-11 04:12:15        MTELXLHIBWHGI      F   46   \n",
       "3        2018-08-17 01:52:14        ZPJCMOXVRXVJF      M   37   \n",
       "4        2018-05-26 11:58:33        NVDDVXILKZTVO      F   26   \n",
       "\n",
       "        IP_Address  Fraudster  \n",
       "0   37.113.112.143          0  \n",
       "1  190.255.172.133          0  \n",
       "2  130.243.149.190          1  \n",
       "3   48.250.147.203          0  \n",
       "4   212.167.41.153          0  "
      ]
     },
     "execution_count": 210,
     "metadata": {},
     "output_type": "execute_result"
    }
   ],
   "source": [
    "print(merged_data.count()) # 54213 -- Row count not affected, joins worked fine.\n",
    "merged_data.head()"
   ]
  },
  {
   "cell_type": "code",
   "execution_count": 211,
   "metadata": {},
   "outputs": [],
   "source": [
    "del(target)"
   ]
  },
  {
   "cell_type": "markdown",
   "metadata": {},
   "source": [
    "### SPLITTING TRAIN & VALIDATION DATASET "
   ]
  },
  {
   "cell_type": "code",
   "execution_count": 212,
   "metadata": {},
   "outputs": [],
   "source": [
    "X = merged_data.copy().drop(\"Fraudster\",axis=1)\n",
    "y = merged_data[\"Fraudster\"]\n",
    "X_train, X_test, y_train, y_test = train_test_split(X, y, test_size=0.20,stratify=y) "
   ]
  },
  {
   "cell_type": "code",
   "execution_count": 213,
   "metadata": {},
   "outputs": [
    {
     "name": "stdout",
     "output_type": "stream",
     "text": [
      "X_train (43370, 13)\n",
      "X_test (10843, 13)\n",
      "y_train (43370,)\n",
      "y_test (10843,)\n"
     ]
    }
   ],
   "source": [
    "print('X_train',X_train.shape)\n",
    "print('X_test',X_test.shape)\n",
    "print('y_train',y_train.shape)\n",
    "print('y_test',y_test.shape)"
   ]
  },
  {
   "cell_type": "code",
   "execution_count": 214,
   "metadata": {},
   "outputs": [
    {
     "data": {
      "text/plain": [
       "51991    0\n",
       "21112    0\n",
       "53254    1\n",
       "18448    1\n",
       "41112    0\n",
       "Name: Fraudster, dtype: int64"
      ]
     },
     "execution_count": 214,
     "metadata": {},
     "output_type": "execute_result"
    }
   ],
   "source": [
    "y_train.head()"
   ]
  },
  {
   "cell_type": "code",
   "execution_count": 215,
   "metadata": {},
   "outputs": [
    {
     "data": {
      "text/html": [
       "<div>\n",
       "<style scoped>\n",
       "    .dataframe tbody tr th:only-of-type {\n",
       "        vertical-align: middle;\n",
       "    }\n",
       "\n",
       "    .dataframe tbody tr th {\n",
       "        vertical-align: top;\n",
       "    }\n",
       "\n",
       "    .dataframe thead th {\n",
       "        text-align: right;\n",
       "    }\n",
       "</style>\n",
       "<table border=\"1\" class=\"dataframe\">\n",
       "  <thead>\n",
       "    <tr style=\"text-align: right;\">\n",
       "      <th></th>\n",
       "      <th>Customer_ID</th>\n",
       "      <th>Order_ID</th>\n",
       "      <th>Date_of_Order</th>\n",
       "      <th>Order_Value_USD</th>\n",
       "      <th>Order_Source</th>\n",
       "      <th>Order_Payment_Method</th>\n",
       "      <th>Merchant_ID</th>\n",
       "      <th>Ecommerce_Provider_ID</th>\n",
       "      <th>Merchant_Registration_Date</th>\n",
       "      <th>Registered_Device_ID</th>\n",
       "      <th>Gender</th>\n",
       "      <th>Age</th>\n",
       "      <th>IP_Address</th>\n",
       "    </tr>\n",
       "  </thead>\n",
       "  <tbody>\n",
       "    <tr>\n",
       "      <th>51991</th>\n",
       "      <td>146782</td>\n",
       "      <td>49f7c4ea1adb</td>\n",
       "      <td>5/28/2018 0:35</td>\n",
       "      <td>70</td>\n",
       "      <td>Direct</td>\n",
       "      <td>Credit Card</td>\n",
       "      <td>22531</td>\n",
       "      <td>1746213</td>\n",
       "      <td>2018-05-22 05:02:24</td>\n",
       "      <td>RDBBSYOZOTNNI</td>\n",
       "      <td>F</td>\n",
       "      <td>34</td>\n",
       "      <td>49.38.152.230</td>\n",
       "    </tr>\n",
       "    <tr>\n",
       "      <th>21112</th>\n",
       "      <td>143435</td>\n",
       "      <td>982010b97be1</td>\n",
       "      <td>7/2/2018 1:29</td>\n",
       "      <td>205</td>\n",
       "      <td>SEO</td>\n",
       "      <td>E-wallet</td>\n",
       "      <td>212149</td>\n",
       "      <td>1746213</td>\n",
       "      <td>2018-05-28 13:22:13</td>\n",
       "      <td>HLRZPHDJYOTEI</td>\n",
       "      <td>M</td>\n",
       "      <td>32</td>\n",
       "      <td>224.255.145.206</td>\n",
       "    </tr>\n",
       "    <tr>\n",
       "      <th>53254</th>\n",
       "      <td>128804</td>\n",
       "      <td>5dbd4945e855</td>\n",
       "      <td>7/9/2018 8:23</td>\n",
       "      <td>42</td>\n",
       "      <td>Direct</td>\n",
       "      <td>Debit Card</td>\n",
       "      <td>215246</td>\n",
       "      <td>1746213</td>\n",
       "      <td>2018-04-05 08:36:39</td>\n",
       "      <td>DHZBQWFMRWXRC</td>\n",
       "      <td>M</td>\n",
       "      <td>40</td>\n",
       "      <td>40.88.97.124</td>\n",
       "    </tr>\n",
       "    <tr>\n",
       "      <th>18448</th>\n",
       "      <td>116427</td>\n",
       "      <td>1c436a716085</td>\n",
       "      <td>9/18/2018 13:42</td>\n",
       "      <td>42</td>\n",
       "      <td>Ads</td>\n",
       "      <td>E-wallet</td>\n",
       "      <td>233609</td>\n",
       "      <td>1746213</td>\n",
       "      <td>2018-08-10 23:32:40</td>\n",
       "      <td>JAYGFJLAWREMI</td>\n",
       "      <td>F</td>\n",
       "      <td>37</td>\n",
       "      <td>152.58.223.10</td>\n",
       "    </tr>\n",
       "    <tr>\n",
       "      <th>41112</th>\n",
       "      <td>131271</td>\n",
       "      <td>d182930c0879</td>\n",
       "      <td>8/24/2018 21:38</td>\n",
       "      <td>242</td>\n",
       "      <td>Ads</td>\n",
       "      <td>Credit Card</td>\n",
       "      <td>89251</td>\n",
       "      <td>1746213</td>\n",
       "      <td>2018-06-04 09:40:52</td>\n",
       "      <td>FIHLNBGCNAIRA</td>\n",
       "      <td>F</td>\n",
       "      <td>40</td>\n",
       "      <td>110.3.131.79</td>\n",
       "    </tr>\n",
       "  </tbody>\n",
       "</table>\n",
       "</div>"
      ],
      "text/plain": [
       "       Customer_ID      Order_ID    Date_of_Order  Order_Value_USD  \\\n",
       "51991       146782  49f7c4ea1adb   5/28/2018 0:35               70   \n",
       "21112       143435  982010b97be1    7/2/2018 1:29              205   \n",
       "53254       128804  5dbd4945e855    7/9/2018 8:23               42   \n",
       "18448       116427  1c436a716085  9/18/2018 13:42               42   \n",
       "41112       131271  d182930c0879  8/24/2018 21:38              242   \n",
       "\n",
       "      Order_Source Order_Payment_Method  Merchant_ID  Ecommerce_Provider_ID  \\\n",
       "51991       Direct          Credit Card        22531                1746213   \n",
       "21112          SEO             E-wallet       212149                1746213   \n",
       "53254       Direct           Debit Card       215246                1746213   \n",
       "18448          Ads             E-wallet       233609                1746213   \n",
       "41112          Ads          Credit Card        89251                1746213   \n",
       "\n",
       "      Merchant_Registration_Date Registered_Device_ID Gender  Age  \\\n",
       "51991        2018-05-22 05:02:24        RDBBSYOZOTNNI      F   34   \n",
       "21112        2018-05-28 13:22:13        HLRZPHDJYOTEI      M   32   \n",
       "53254        2018-04-05 08:36:39        DHZBQWFMRWXRC      M   40   \n",
       "18448        2018-08-10 23:32:40        JAYGFJLAWREMI      F   37   \n",
       "41112        2018-06-04 09:40:52        FIHLNBGCNAIRA      F   40   \n",
       "\n",
       "            IP_Address  \n",
       "51991    49.38.152.230  \n",
       "21112  224.255.145.206  \n",
       "53254     40.88.97.124  \n",
       "18448    152.58.223.10  \n",
       "41112     110.3.131.79  "
      ]
     },
     "execution_count": 215,
     "metadata": {},
     "output_type": "execute_result"
    }
   ],
   "source": [
    "X_train.head()"
   ]
  },
  {
   "cell_type": "markdown",
   "metadata": {},
   "source": [
    "#### Building a dataframe at a device ID level. The assumption here being for a given device ID, there should be a single merchant found. In scenarios where there are multiples, it could be suspected as fraudulent activity \n"
   ]
  },
  {
   "cell_type": "code",
   "execution_count": 216,
   "metadata": {},
   "outputs": [
    {
     "data": {
      "text/html": [
       "<div>\n",
       "<style scoped>\n",
       "    .dataframe tbody tr th:only-of-type {\n",
       "        vertical-align: middle;\n",
       "    }\n",
       "\n",
       "    .dataframe tbody tr th {\n",
       "        vertical-align: top;\n",
       "    }\n",
       "\n",
       "    .dataframe thead th {\n",
       "        text-align: right;\n",
       "    }\n",
       "</style>\n",
       "<table border=\"1\" class=\"dataframe\">\n",
       "  <thead>\n",
       "    <tr style=\"text-align: right;\">\n",
       "      <th></th>\n",
       "      <th>Registered_Device_ID</th>\n",
       "      <th>Merchant_ID</th>\n",
       "    </tr>\n",
       "  </thead>\n",
       "  <tbody>\n",
       "    <tr>\n",
       "      <th>0</th>\n",
       "      <td>ACMSFDOYRXYGA</td>\n",
       "      <td>4</td>\n",
       "    </tr>\n",
       "    <tr>\n",
       "      <th>1</th>\n",
       "      <td>AENAOEHJIECBG</td>\n",
       "      <td>4</td>\n",
       "    </tr>\n",
       "    <tr>\n",
       "      <th>2</th>\n",
       "      <td>AFFOYLIDDMMNT</td>\n",
       "      <td>3</td>\n",
       "    </tr>\n",
       "    <tr>\n",
       "      <th>3</th>\n",
       "      <td>AFTKHRRPSLIER</td>\n",
       "      <td>5</td>\n",
       "    </tr>\n",
       "    <tr>\n",
       "      <th>4</th>\n",
       "      <td>AGGAZBZOEKRKF</td>\n",
       "      <td>2</td>\n",
       "    </tr>\n",
       "  </tbody>\n",
       "</table>\n",
       "</div>"
      ],
      "text/plain": [
       "  Registered_Device_ID  Merchant_ID\n",
       "0        ACMSFDOYRXYGA            4\n",
       "1        AENAOEHJIECBG            4\n",
       "2        AFFOYLIDDMMNT            3\n",
       "3        AFTKHRRPSLIER            5\n",
       "4        AGGAZBZOEKRKF            2"
      ]
     },
     "execution_count": 216,
     "metadata": {},
     "output_type": "execute_result"
    }
   ],
   "source": [
    "device_id = X_train.groupby(['Registered_Device_ID']).agg({'Merchant_ID':'nunique' }).reset_index()\n",
    "device_id = device_id[(device_id['Merchant_ID'] > 1)].reset_index(drop=True)\n",
    "device_id.head()"
   ]
  },
  {
   "cell_type": "markdown",
   "metadata": {},
   "source": [
    "### Creating a new feature which will indicate if a given device type ID has multiple registrations tagged against it"
   ]
  },
  {
   "cell_type": "code",
   "execution_count": 217,
   "metadata": {},
   "outputs": [],
   "source": [
    "device_id['Multiple_Merchants'] = np.nan\n",
    "\n",
    "for i in range(0, device_id.shape[0]):\n",
    "    if device_id.loc[i,'Merchant_ID'] > 1:\n",
    "        device_id.loc[i,'Multiple_Merchants']  = 1\n",
    "    else: device_id.loc[i,'Multiple_Merchants'] = 0 "
   ]
  },
  {
   "cell_type": "code",
   "execution_count": 218,
   "metadata": {
    "scrolled": true
   },
   "outputs": [
    {
     "data": {
      "text/html": [
       "<div>\n",
       "<style scoped>\n",
       "    .dataframe tbody tr th:only-of-type {\n",
       "        vertical-align: middle;\n",
       "    }\n",
       "\n",
       "    .dataframe tbody tr th {\n",
       "        vertical-align: top;\n",
       "    }\n",
       "\n",
       "    .dataframe thead th {\n",
       "        text-align: right;\n",
       "    }\n",
       "</style>\n",
       "<table border=\"1\" class=\"dataframe\">\n",
       "  <thead>\n",
       "    <tr style=\"text-align: right;\">\n",
       "      <th></th>\n",
       "      <th>Registered_Device_ID</th>\n",
       "      <th>Merchant_ID</th>\n",
       "      <th>Multiple_Merchants</th>\n",
       "    </tr>\n",
       "  </thead>\n",
       "  <tbody>\n",
       "    <tr>\n",
       "      <th>0</th>\n",
       "      <td>ACMSFDOYRXYGA</td>\n",
       "      <td>4</td>\n",
       "      <td>1.0</td>\n",
       "    </tr>\n",
       "    <tr>\n",
       "      <th>1</th>\n",
       "      <td>AENAOEHJIECBG</td>\n",
       "      <td>4</td>\n",
       "      <td>1.0</td>\n",
       "    </tr>\n",
       "    <tr>\n",
       "      <th>2</th>\n",
       "      <td>AFFOYLIDDMMNT</td>\n",
       "      <td>3</td>\n",
       "      <td>1.0</td>\n",
       "    </tr>\n",
       "    <tr>\n",
       "      <th>3</th>\n",
       "      <td>AFTKHRRPSLIER</td>\n",
       "      <td>5</td>\n",
       "      <td>1.0</td>\n",
       "    </tr>\n",
       "    <tr>\n",
       "      <th>4</th>\n",
       "      <td>AGGAZBZOEKRKF</td>\n",
       "      <td>2</td>\n",
       "      <td>1.0</td>\n",
       "    </tr>\n",
       "  </tbody>\n",
       "</table>\n",
       "</div>"
      ],
      "text/plain": [
       "  Registered_Device_ID  Merchant_ID Multiple_Merchants\n",
       "0        ACMSFDOYRXYGA            4                1.0\n",
       "1        AENAOEHJIECBG            4                1.0\n",
       "2        AFFOYLIDDMMNT            3                1.0\n",
       "3        AFTKHRRPSLIER            5                1.0\n",
       "4        AGGAZBZOEKRKF            2                1.0"
      ]
     },
     "execution_count": 218,
     "metadata": {},
     "output_type": "execute_result"
    }
   ],
   "source": [
    "device_id['Multiple_Merchants'] = device_id['Multiple_Merchants'].astype('category')\n",
    "device_id.head()"
   ]
  },
  {
   "cell_type": "code",
   "execution_count": 219,
   "metadata": {},
   "outputs": [],
   "source": [
    "device_id.drop(['Merchant_ID'],axis=1,inplace=True)"
   ]
  },
  {
   "cell_type": "code",
   "execution_count": 220,
   "metadata": {},
   "outputs": [
    {
     "name": "stdout",
     "output_type": "stream",
     "text": [
      "Registered_Device_ID      object\n",
      "Multiple_Merchants      category\n",
      "dtype: object\n"
     ]
    },
    {
     "data": {
      "text/html": [
       "<div>\n",
       "<style scoped>\n",
       "    .dataframe tbody tr th:only-of-type {\n",
       "        vertical-align: middle;\n",
       "    }\n",
       "\n",
       "    .dataframe tbody tr th {\n",
       "        vertical-align: top;\n",
       "    }\n",
       "\n",
       "    .dataframe thead th {\n",
       "        text-align: right;\n",
       "    }\n",
       "</style>\n",
       "<table border=\"1\" class=\"dataframe\">\n",
       "  <thead>\n",
       "    <tr style=\"text-align: right;\">\n",
       "      <th></th>\n",
       "      <th>Registered_Device_ID</th>\n",
       "      <th>Multiple_Merchants</th>\n",
       "    </tr>\n",
       "  </thead>\n",
       "  <tbody>\n",
       "    <tr>\n",
       "      <th>0</th>\n",
       "      <td>ACMSFDOYRXYGA</td>\n",
       "      <td>1.0</td>\n",
       "    </tr>\n",
       "    <tr>\n",
       "      <th>1</th>\n",
       "      <td>AENAOEHJIECBG</td>\n",
       "      <td>1.0</td>\n",
       "    </tr>\n",
       "    <tr>\n",
       "      <th>2</th>\n",
       "      <td>AFFOYLIDDMMNT</td>\n",
       "      <td>1.0</td>\n",
       "    </tr>\n",
       "    <tr>\n",
       "      <th>3</th>\n",
       "      <td>AFTKHRRPSLIER</td>\n",
       "      <td>1.0</td>\n",
       "    </tr>\n",
       "    <tr>\n",
       "      <th>4</th>\n",
       "      <td>AGGAZBZOEKRKF</td>\n",
       "      <td>1.0</td>\n",
       "    </tr>\n",
       "  </tbody>\n",
       "</table>\n",
       "</div>"
      ],
      "text/plain": [
       "  Registered_Device_ID Multiple_Merchants\n",
       "0        ACMSFDOYRXYGA                1.0\n",
       "1        AENAOEHJIECBG                1.0\n",
       "2        AFFOYLIDDMMNT                1.0\n",
       "3        AFTKHRRPSLIER                1.0\n",
       "4        AGGAZBZOEKRKF                1.0"
      ]
     },
     "execution_count": 220,
     "metadata": {},
     "output_type": "execute_result"
    }
   ],
   "source": [
    "print(device_id.dtypes)\n",
    "device_id.head()"
   ]
  },
  {
   "cell_type": "code",
   "execution_count": 221,
   "metadata": {},
   "outputs": [],
   "source": [
    "#Add the new feautures on to the train dataset \n",
    "X_train = pd.merge(X_train, device_id, how='left', on = 'Registered_Device_ID') #get the device-id level flags on train data"
   ]
  },
  {
   "cell_type": "code",
   "execution_count": 222,
   "metadata": {
    "scrolled": true
   },
   "outputs": [
    {
     "name": "stdout",
     "output_type": "stream",
     "text": [
      "Customer_ID                      int64\n",
      "Order_ID                        object\n",
      "Date_of_Order                   object\n",
      "Order_Value_USD                  int64\n",
      "Order_Source                    object\n",
      "Order_Payment_Method            object\n",
      "Merchant_ID                      int64\n",
      "Ecommerce_Provider_ID            int64\n",
      "Merchant_Registration_Date      object\n",
      "Registered_Device_ID            object\n",
      "Gender                          object\n",
      "Age                              int64\n",
      "IP_Address                      object\n",
      "Multiple_Merchants            category\n",
      "dtype: object\n"
     ]
    },
    {
     "data": {
      "text/html": [
       "<div>\n",
       "<style scoped>\n",
       "    .dataframe tbody tr th:only-of-type {\n",
       "        vertical-align: middle;\n",
       "    }\n",
       "\n",
       "    .dataframe tbody tr th {\n",
       "        vertical-align: top;\n",
       "    }\n",
       "\n",
       "    .dataframe thead th {\n",
       "        text-align: right;\n",
       "    }\n",
       "</style>\n",
       "<table border=\"1\" class=\"dataframe\">\n",
       "  <thead>\n",
       "    <tr style=\"text-align: right;\">\n",
       "      <th></th>\n",
       "      <th>Customer_ID</th>\n",
       "      <th>Order_ID</th>\n",
       "      <th>Date_of_Order</th>\n",
       "      <th>Order_Value_USD</th>\n",
       "      <th>Order_Source</th>\n",
       "      <th>Order_Payment_Method</th>\n",
       "      <th>Merchant_ID</th>\n",
       "      <th>Ecommerce_Provider_ID</th>\n",
       "      <th>Merchant_Registration_Date</th>\n",
       "      <th>Registered_Device_ID</th>\n",
       "      <th>Gender</th>\n",
       "      <th>Age</th>\n",
       "      <th>IP_Address</th>\n",
       "      <th>Multiple_Merchants</th>\n",
       "    </tr>\n",
       "  </thead>\n",
       "  <tbody>\n",
       "    <tr>\n",
       "      <th>0</th>\n",
       "      <td>146782</td>\n",
       "      <td>49f7c4ea1adb</td>\n",
       "      <td>5/28/2018 0:35</td>\n",
       "      <td>70</td>\n",
       "      <td>Direct</td>\n",
       "      <td>Credit Card</td>\n",
       "      <td>22531</td>\n",
       "      <td>1746213</td>\n",
       "      <td>2018-05-22 05:02:24</td>\n",
       "      <td>RDBBSYOZOTNNI</td>\n",
       "      <td>F</td>\n",
       "      <td>34</td>\n",
       "      <td>49.38.152.230</td>\n",
       "      <td>NaN</td>\n",
       "    </tr>\n",
       "    <tr>\n",
       "      <th>1</th>\n",
       "      <td>143435</td>\n",
       "      <td>982010b97be1</td>\n",
       "      <td>7/2/2018 1:29</td>\n",
       "      <td>205</td>\n",
       "      <td>SEO</td>\n",
       "      <td>E-wallet</td>\n",
       "      <td>212149</td>\n",
       "      <td>1746213</td>\n",
       "      <td>2018-05-28 13:22:13</td>\n",
       "      <td>HLRZPHDJYOTEI</td>\n",
       "      <td>M</td>\n",
       "      <td>32</td>\n",
       "      <td>224.255.145.206</td>\n",
       "      <td>NaN</td>\n",
       "    </tr>\n",
       "    <tr>\n",
       "      <th>2</th>\n",
       "      <td>128804</td>\n",
       "      <td>5dbd4945e855</td>\n",
       "      <td>7/9/2018 8:23</td>\n",
       "      <td>42</td>\n",
       "      <td>Direct</td>\n",
       "      <td>Debit Card</td>\n",
       "      <td>215246</td>\n",
       "      <td>1746213</td>\n",
       "      <td>2018-04-05 08:36:39</td>\n",
       "      <td>DHZBQWFMRWXRC</td>\n",
       "      <td>M</td>\n",
       "      <td>40</td>\n",
       "      <td>40.88.97.124</td>\n",
       "      <td>NaN</td>\n",
       "    </tr>\n",
       "    <tr>\n",
       "      <th>3</th>\n",
       "      <td>116427</td>\n",
       "      <td>1c436a716085</td>\n",
       "      <td>9/18/2018 13:42</td>\n",
       "      <td>42</td>\n",
       "      <td>Ads</td>\n",
       "      <td>E-wallet</td>\n",
       "      <td>233609</td>\n",
       "      <td>1746213</td>\n",
       "      <td>2018-08-10 23:32:40</td>\n",
       "      <td>JAYGFJLAWREMI</td>\n",
       "      <td>F</td>\n",
       "      <td>37</td>\n",
       "      <td>152.58.223.10</td>\n",
       "      <td>NaN</td>\n",
       "    </tr>\n",
       "    <tr>\n",
       "      <th>4</th>\n",
       "      <td>131271</td>\n",
       "      <td>d182930c0879</td>\n",
       "      <td>8/24/2018 21:38</td>\n",
       "      <td>242</td>\n",
       "      <td>Ads</td>\n",
       "      <td>Credit Card</td>\n",
       "      <td>89251</td>\n",
       "      <td>1746213</td>\n",
       "      <td>2018-06-04 09:40:52</td>\n",
       "      <td>FIHLNBGCNAIRA</td>\n",
       "      <td>F</td>\n",
       "      <td>40</td>\n",
       "      <td>110.3.131.79</td>\n",
       "      <td>NaN</td>\n",
       "    </tr>\n",
       "  </tbody>\n",
       "</table>\n",
       "</div>"
      ],
      "text/plain": [
       "   Customer_ID      Order_ID    Date_of_Order  Order_Value_USD Order_Source  \\\n",
       "0       146782  49f7c4ea1adb   5/28/2018 0:35               70       Direct   \n",
       "1       143435  982010b97be1    7/2/2018 1:29              205          SEO   \n",
       "2       128804  5dbd4945e855    7/9/2018 8:23               42       Direct   \n",
       "3       116427  1c436a716085  9/18/2018 13:42               42          Ads   \n",
       "4       131271  d182930c0879  8/24/2018 21:38              242          Ads   \n",
       "\n",
       "  Order_Payment_Method  Merchant_ID  Ecommerce_Provider_ID  \\\n",
       "0          Credit Card        22531                1746213   \n",
       "1             E-wallet       212149                1746213   \n",
       "2           Debit Card       215246                1746213   \n",
       "3             E-wallet       233609                1746213   \n",
       "4          Credit Card        89251                1746213   \n",
       "\n",
       "  Merchant_Registration_Date Registered_Device_ID Gender  Age  \\\n",
       "0        2018-05-22 05:02:24        RDBBSYOZOTNNI      F   34   \n",
       "1        2018-05-28 13:22:13        HLRZPHDJYOTEI      M   32   \n",
       "2        2018-04-05 08:36:39        DHZBQWFMRWXRC      M   40   \n",
       "3        2018-08-10 23:32:40        JAYGFJLAWREMI      F   37   \n",
       "4        2018-06-04 09:40:52        FIHLNBGCNAIRA      F   40   \n",
       "\n",
       "        IP_Address Multiple_Merchants  \n",
       "0    49.38.152.230                NaN  \n",
       "1  224.255.145.206                NaN  \n",
       "2     40.88.97.124                NaN  \n",
       "3    152.58.223.10                NaN  \n",
       "4     110.3.131.79                NaN  "
      ]
     },
     "execution_count": 222,
     "metadata": {},
     "output_type": "execute_result"
    }
   ],
   "source": [
    "print(X_train.dtypes)\n",
    "X_train.head()"
   ]
  },
  {
   "cell_type": "code",
   "execution_count": 223,
   "metadata": {},
   "outputs": [],
   "source": [
    "X_train['target'] = y_train"
   ]
  },
  {
   "cell_type": "code",
   "execution_count": 224,
   "metadata": {},
   "outputs": [
    {
     "data": {
      "text/html": [
       "<div>\n",
       "<style scoped>\n",
       "    .dataframe tbody tr th:only-of-type {\n",
       "        vertical-align: middle;\n",
       "    }\n",
       "\n",
       "    .dataframe tbody tr th {\n",
       "        vertical-align: top;\n",
       "    }\n",
       "\n",
       "    .dataframe thead th {\n",
       "        text-align: right;\n",
       "    }\n",
       "</style>\n",
       "<table border=\"1\" class=\"dataframe\">\n",
       "  <thead>\n",
       "    <tr style=\"text-align: right;\">\n",
       "      <th></th>\n",
       "      <th>IP_Address</th>\n",
       "      <th>target</th>\n",
       "      <th>Merchant_ID</th>\n",
       "    </tr>\n",
       "  </thead>\n",
       "  <tbody>\n",
       "    <tr>\n",
       "      <th>1538</th>\n",
       "      <td>107.75.45.250</td>\n",
       "      <td>3.0</td>\n",
       "      <td>3</td>\n",
       "    </tr>\n",
       "    <tr>\n",
       "      <th>2417</th>\n",
       "      <td>112.114.32.137</td>\n",
       "      <td>2.0</td>\n",
       "      <td>3</td>\n",
       "    </tr>\n",
       "    <tr>\n",
       "      <th>5395</th>\n",
       "      <td>128.207.105.21</td>\n",
       "      <td>3.0</td>\n",
       "      <td>5</td>\n",
       "    </tr>\n",
       "    <tr>\n",
       "      <th>9535</th>\n",
       "      <td>15.50.64.234</td>\n",
       "      <td>2.0</td>\n",
       "      <td>4</td>\n",
       "    </tr>\n",
       "    <tr>\n",
       "      <th>9702</th>\n",
       "      <td>150.81.230.244</td>\n",
       "      <td>2.0</td>\n",
       "      <td>3</td>\n",
       "    </tr>\n",
       "  </tbody>\n",
       "</table>\n",
       "</div>"
      ],
      "text/plain": [
       "          IP_Address  target  Merchant_ID\n",
       "1538   107.75.45.250     3.0            3\n",
       "2417  112.114.32.137     2.0            3\n",
       "5395  128.207.105.21     3.0            5\n",
       "9535    15.50.64.234     2.0            4\n",
       "9702  150.81.230.244     2.0            3"
      ]
     },
     "execution_count": 224,
     "metadata": {},
     "output_type": "execute_result"
    }
   ],
   "source": [
    "ip_address = X_train.groupby(['IP_Address']).agg({'target':'sum','Merchant_ID':'nunique' }).reset_index()\n",
    "ip_address[ip_address['target']>1].head()"
   ]
  },
  {
   "cell_type": "code",
   "execution_count": 225,
   "metadata": {},
   "outputs": [
    {
     "data": {
      "text/html": [
       "<div>\n",
       "<style scoped>\n",
       "    .dataframe tbody tr th:only-of-type {\n",
       "        vertical-align: middle;\n",
       "    }\n",
       "\n",
       "    .dataframe tbody tr th {\n",
       "        vertical-align: top;\n",
       "    }\n",
       "\n",
       "    .dataframe thead th {\n",
       "        text-align: right;\n",
       "    }\n",
       "</style>\n",
       "<table border=\"1\" class=\"dataframe\">\n",
       "  <thead>\n",
       "    <tr style=\"text-align: right;\">\n",
       "      <th></th>\n",
       "      <th>IP_Address</th>\n",
       "      <th>Ip_Addr_Multi_Reg</th>\n",
       "    </tr>\n",
       "  </thead>\n",
       "  <tbody>\n",
       "    <tr>\n",
       "      <th>123</th>\n",
       "      <td>0.254.90.41</td>\n",
       "      <td>1</td>\n",
       "    </tr>\n",
       "    <tr>\n",
       "      <th>127</th>\n",
       "      <td>0.34.194.207</td>\n",
       "      <td>1</td>\n",
       "    </tr>\n",
       "    <tr>\n",
       "      <th>259</th>\n",
       "      <td>1.21.148.100</td>\n",
       "      <td>1</td>\n",
       "    </tr>\n",
       "    <tr>\n",
       "      <th>273</th>\n",
       "      <td>1.227.108.162</td>\n",
       "      <td>1</td>\n",
       "    </tr>\n",
       "    <tr>\n",
       "      <th>373</th>\n",
       "      <td>10.134.113.154</td>\n",
       "      <td>1</td>\n",
       "    </tr>\n",
       "  </tbody>\n",
       "</table>\n",
       "</div>"
      ],
      "text/plain": [
       "         IP_Address Ip_Addr_Multi_Reg\n",
       "123     0.254.90.41                 1\n",
       "127    0.34.194.207                 1\n",
       "259    1.21.148.100                 1\n",
       "273   1.227.108.162                 1\n",
       "373  10.134.113.154                 1"
      ]
     },
     "execution_count": 225,
     "metadata": {},
     "output_type": "execute_result"
    }
   ],
   "source": [
    "ip_address = X_train.groupby(['IP_Address']).agg({'Merchant_ID':'nunique' }).reset_index()\n",
    "ip_address = ip_address[ip_address['Merchant_ID'] > 1]\n",
    "ip_address['Ip_Addr_Multi_Reg'] = 1\n",
    "ip_address['Ip_Addr_Multi_Reg'] = ip_address['Ip_Addr_Multi_Reg'].astype('category')\n",
    "ip_address.drop(['Merchant_ID'],axis=1,inplace=True)\n",
    "ip_address.head()"
   ]
  },
  {
   "cell_type": "code",
   "execution_count": 226,
   "metadata": {},
   "outputs": [],
   "source": [
    "#Add the new feautures on to the train dataset \n",
    "X_train = pd.merge(X_train, ip_address, how='left', on = 'IP_Address') #get the ip-address flags w more than 1 registration"
   ]
  },
  {
   "cell_type": "code",
   "execution_count": 227,
   "metadata": {},
   "outputs": [
    {
     "data": {
      "text/html": [
       "<div>\n",
       "<style scoped>\n",
       "    .dataframe tbody tr th:only-of-type {\n",
       "        vertical-align: middle;\n",
       "    }\n",
       "\n",
       "    .dataframe tbody tr th {\n",
       "        vertical-align: top;\n",
       "    }\n",
       "\n",
       "    .dataframe thead th {\n",
       "        text-align: right;\n",
       "    }\n",
       "</style>\n",
       "<table border=\"1\" class=\"dataframe\">\n",
       "  <thead>\n",
       "    <tr style=\"text-align: right;\">\n",
       "      <th></th>\n",
       "      <th>Date_of_Order</th>\n",
       "      <th>Registered_Device_ID</th>\n",
       "      <th>target</th>\n",
       "      <th>Order_ID</th>\n",
       "    </tr>\n",
       "  </thead>\n",
       "  <tbody>\n",
       "    <tr>\n",
       "      <th>2</th>\n",
       "      <td>1/10/2018 10:13</td>\n",
       "      <td>SSJNDVNOUTLWP</td>\n",
       "      <td>0.0</td>\n",
       "      <td>2</td>\n",
       "    </tr>\n",
       "    <tr>\n",
       "      <th>3</th>\n",
       "      <td>1/10/2018 10:28</td>\n",
       "      <td>WWTBMVCTTBKYK</td>\n",
       "      <td>0.0</td>\n",
       "      <td>4</td>\n",
       "    </tr>\n",
       "    <tr>\n",
       "      <th>4</th>\n",
       "      <td>1/10/2018 10:34</td>\n",
       "      <td>VTNKNINMSWLBO</td>\n",
       "      <td>0.0</td>\n",
       "      <td>2</td>\n",
       "    </tr>\n",
       "    <tr>\n",
       "      <th>5</th>\n",
       "      <td>1/10/2018 10:52</td>\n",
       "      <td>ZYBQQQLWHGQHQ</td>\n",
       "      <td>0.0</td>\n",
       "      <td>6</td>\n",
       "    </tr>\n",
       "    <tr>\n",
       "      <th>6</th>\n",
       "      <td>1/10/2018 10:58</td>\n",
       "      <td>GKEOSYTFRBUFZ</td>\n",
       "      <td>0.0</td>\n",
       "      <td>4</td>\n",
       "    </tr>\n",
       "  </tbody>\n",
       "</table>\n",
       "</div>"
      ],
      "text/plain": [
       "     Date_of_Order Registered_Device_ID  target  Order_ID\n",
       "2  1/10/2018 10:13        SSJNDVNOUTLWP     0.0         2\n",
       "3  1/10/2018 10:28        WWTBMVCTTBKYK     0.0         4\n",
       "4  1/10/2018 10:34        VTNKNINMSWLBO     0.0         2\n",
       "5  1/10/2018 10:52        ZYBQQQLWHGQHQ     0.0         6\n",
       "6  1/10/2018 10:58        GKEOSYTFRBUFZ     0.0         4"
      ]
     },
     "execution_count": 227,
     "metadata": {},
     "output_type": "execute_result"
    }
   ],
   "source": [
    "ord_day = X_train.groupby(['Date_of_Order','Registered_Device_ID']).agg({'target':'sum', 'Order_ID':'count' }).reset_index()\n",
    "ord_day[ord_day['Order_ID']>1].head()"
   ]
  },
  {
   "cell_type": "code",
   "execution_count": 228,
   "metadata": {},
   "outputs": [
    {
     "data": {
      "text/html": [
       "<div>\n",
       "<style scoped>\n",
       "    .dataframe tbody tr th:only-of-type {\n",
       "        vertical-align: middle;\n",
       "    }\n",
       "\n",
       "    .dataframe tbody tr th {\n",
       "        vertical-align: top;\n",
       "    }\n",
       "\n",
       "    .dataframe thead th {\n",
       "        text-align: right;\n",
       "    }\n",
       "</style>\n",
       "<table border=\"1\" class=\"dataframe\">\n",
       "  <thead>\n",
       "    <tr style=\"text-align: right;\">\n",
       "      <th></th>\n",
       "      <th>Customer_ID</th>\n",
       "      <th>Order_ID</th>\n",
       "      <th>Date_of_Order</th>\n",
       "      <th>Order_Value_USD</th>\n",
       "      <th>Order_Source</th>\n",
       "      <th>Order_Payment_Method</th>\n",
       "      <th>Merchant_ID</th>\n",
       "      <th>Ecommerce_Provider_ID</th>\n",
       "      <th>Merchant_Registration_Date</th>\n",
       "      <th>Registered_Device_ID</th>\n",
       "      <th>Gender</th>\n",
       "      <th>Age</th>\n",
       "      <th>IP_Address</th>\n",
       "      <th>Multiple_Merchants</th>\n",
       "      <th>target</th>\n",
       "      <th>Ip_Addr_Multi_Reg</th>\n",
       "    </tr>\n",
       "  </thead>\n",
       "  <tbody>\n",
       "    <tr>\n",
       "      <th>10744</th>\n",
       "      <td>134909</td>\n",
       "      <td>aa8d2c9d106a</td>\n",
       "      <td>1/10/2018 15:00</td>\n",
       "      <td>60</td>\n",
       "      <td>Direct</td>\n",
       "      <td>Credit Card</td>\n",
       "      <td>195130</td>\n",
       "      <td>1746213</td>\n",
       "      <td>2018-01-08 15:00:40</td>\n",
       "      <td>BNMPEZLFOYNSM</td>\n",
       "      <td>M</td>\n",
       "      <td>51</td>\n",
       "      <td>72.134.37.247</td>\n",
       "      <td>1.0</td>\n",
       "      <td>0.0</td>\n",
       "      <td>1</td>\n",
       "    </tr>\n",
       "    <tr>\n",
       "      <th>11182</th>\n",
       "      <td>135200</td>\n",
       "      <td>220f999e5862</td>\n",
       "      <td>1/10/2018 15:00</td>\n",
       "      <td>60</td>\n",
       "      <td>Direct</td>\n",
       "      <td>Credit Card</td>\n",
       "      <td>191610</td>\n",
       "      <td>1746213</td>\n",
       "      <td>2018-01-08 15:00:36</td>\n",
       "      <td>BNMPEZLFOYNSM</td>\n",
       "      <td>M</td>\n",
       "      <td>51</td>\n",
       "      <td>72.134.37.247</td>\n",
       "      <td>1.0</td>\n",
       "      <td>NaN</td>\n",
       "      <td>1</td>\n",
       "    </tr>\n",
       "    <tr>\n",
       "      <th>15786</th>\n",
       "      <td>161358</td>\n",
       "      <td>a3e16ffd9292</td>\n",
       "      <td>1/10/2018 15:00</td>\n",
       "      <td>60</td>\n",
       "      <td>Direct</td>\n",
       "      <td>Credit Card</td>\n",
       "      <td>56977</td>\n",
       "      <td>1746213</td>\n",
       "      <td>2018-01-08 15:00:41</td>\n",
       "      <td>BNMPEZLFOYNSM</td>\n",
       "      <td>M</td>\n",
       "      <td>51</td>\n",
       "      <td>72.134.37.247</td>\n",
       "      <td>1.0</td>\n",
       "      <td>0.0</td>\n",
       "      <td>1</td>\n",
       "    </tr>\n",
       "    <tr>\n",
       "      <th>19636</th>\n",
       "      <td>154778</td>\n",
       "      <td>9c7e1fbd28e9</td>\n",
       "      <td>1/10/2018 15:00</td>\n",
       "      <td>60</td>\n",
       "      <td>Direct</td>\n",
       "      <td>Credit Card</td>\n",
       "      <td>26408</td>\n",
       "      <td>1746213</td>\n",
       "      <td>2018-01-08 15:00:43</td>\n",
       "      <td>BNMPEZLFOYNSM</td>\n",
       "      <td>M</td>\n",
       "      <td>51</td>\n",
       "      <td>72.134.37.247</td>\n",
       "      <td>1.0</td>\n",
       "      <td>0.0</td>\n",
       "      <td>1</td>\n",
       "    </tr>\n",
       "    <tr>\n",
       "      <th>41017</th>\n",
       "      <td>147925</td>\n",
       "      <td>7feeb2ea1d24</td>\n",
       "      <td>1/10/2018 15:00</td>\n",
       "      <td>60</td>\n",
       "      <td>Direct</td>\n",
       "      <td>Credit Card</td>\n",
       "      <td>242745</td>\n",
       "      <td>1746213</td>\n",
       "      <td>2018-01-08 15:00:42</td>\n",
       "      <td>BNMPEZLFOYNSM</td>\n",
       "      <td>M</td>\n",
       "      <td>51</td>\n",
       "      <td>72.134.37.247</td>\n",
       "      <td>1.0</td>\n",
       "      <td>NaN</td>\n",
       "      <td>1</td>\n",
       "    </tr>\n",
       "  </tbody>\n",
       "</table>\n",
       "</div>"
      ],
      "text/plain": [
       "       Customer_ID      Order_ID    Date_of_Order  Order_Value_USD  \\\n",
       "10744       134909  aa8d2c9d106a  1/10/2018 15:00               60   \n",
       "11182       135200  220f999e5862  1/10/2018 15:00               60   \n",
       "15786       161358  a3e16ffd9292  1/10/2018 15:00               60   \n",
       "19636       154778  9c7e1fbd28e9  1/10/2018 15:00               60   \n",
       "41017       147925  7feeb2ea1d24  1/10/2018 15:00               60   \n",
       "\n",
       "      Order_Source Order_Payment_Method  Merchant_ID  Ecommerce_Provider_ID  \\\n",
       "10744       Direct          Credit Card       195130                1746213   \n",
       "11182       Direct          Credit Card       191610                1746213   \n",
       "15786       Direct          Credit Card        56977                1746213   \n",
       "19636       Direct          Credit Card        26408                1746213   \n",
       "41017       Direct          Credit Card       242745                1746213   \n",
       "\n",
       "      Merchant_Registration_Date Registered_Device_ID Gender  Age  \\\n",
       "10744        2018-01-08 15:00:40        BNMPEZLFOYNSM      M   51   \n",
       "11182        2018-01-08 15:00:36        BNMPEZLFOYNSM      M   51   \n",
       "15786        2018-01-08 15:00:41        BNMPEZLFOYNSM      M   51   \n",
       "19636        2018-01-08 15:00:43        BNMPEZLFOYNSM      M   51   \n",
       "41017        2018-01-08 15:00:42        BNMPEZLFOYNSM      M   51   \n",
       "\n",
       "          IP_Address Multiple_Merchants  target Ip_Addr_Multi_Reg  \n",
       "10744  72.134.37.247                1.0     0.0                 1  \n",
       "11182  72.134.37.247                1.0     NaN                 1  \n",
       "15786  72.134.37.247                1.0     0.0                 1  \n",
       "19636  72.134.37.247                1.0     0.0                 1  \n",
       "41017  72.134.37.247                1.0     NaN                 1  "
      ]
     },
     "execution_count": 228,
     "metadata": {},
     "output_type": "execute_result"
    }
   ],
   "source": [
    "X_train[X_train['Date_of_Order'] == '1/10/2018 15:00']"
   ]
  },
  {
   "cell_type": "code",
   "execution_count": 229,
   "metadata": {},
   "outputs": [
    {
     "data": {
      "text/html": [
       "<div>\n",
       "<style scoped>\n",
       "    .dataframe tbody tr th:only-of-type {\n",
       "        vertical-align: middle;\n",
       "    }\n",
       "\n",
       "    .dataframe tbody tr th {\n",
       "        vertical-align: top;\n",
       "    }\n",
       "\n",
       "    .dataframe thead th {\n",
       "        text-align: right;\n",
       "    }\n",
       "</style>\n",
       "<table border=\"1\" class=\"dataframe\">\n",
       "  <thead>\n",
       "    <tr style=\"text-align: right;\">\n",
       "      <th></th>\n",
       "      <th>Date_of_Order</th>\n",
       "      <th>Registered_Device_ID</th>\n",
       "      <th>Mult_orders_same_time</th>\n",
       "    </tr>\n",
       "  </thead>\n",
       "  <tbody>\n",
       "    <tr>\n",
       "      <th>2</th>\n",
       "      <td>1/10/2018 10:13</td>\n",
       "      <td>SSJNDVNOUTLWP</td>\n",
       "      <td>1</td>\n",
       "    </tr>\n",
       "    <tr>\n",
       "      <th>3</th>\n",
       "      <td>1/10/2018 10:28</td>\n",
       "      <td>WWTBMVCTTBKYK</td>\n",
       "      <td>1</td>\n",
       "    </tr>\n",
       "    <tr>\n",
       "      <th>4</th>\n",
       "      <td>1/10/2018 10:34</td>\n",
       "      <td>VTNKNINMSWLBO</td>\n",
       "      <td>1</td>\n",
       "    </tr>\n",
       "    <tr>\n",
       "      <th>5</th>\n",
       "      <td>1/10/2018 10:52</td>\n",
       "      <td>ZYBQQQLWHGQHQ</td>\n",
       "      <td>1</td>\n",
       "    </tr>\n",
       "    <tr>\n",
       "      <th>6</th>\n",
       "      <td>1/10/2018 10:58</td>\n",
       "      <td>GKEOSYTFRBUFZ</td>\n",
       "      <td>1</td>\n",
       "    </tr>\n",
       "  </tbody>\n",
       "</table>\n",
       "</div>"
      ],
      "text/plain": [
       "     Date_of_Order Registered_Device_ID Mult_orders_same_time\n",
       "2  1/10/2018 10:13        SSJNDVNOUTLWP                     1\n",
       "3  1/10/2018 10:28        WWTBMVCTTBKYK                     1\n",
       "4  1/10/2018 10:34        VTNKNINMSWLBO                     1\n",
       "5  1/10/2018 10:52        ZYBQQQLWHGQHQ                     1\n",
       "6  1/10/2018 10:58        GKEOSYTFRBUFZ                     1"
      ]
     },
     "execution_count": 229,
     "metadata": {},
     "output_type": "execute_result"
    }
   ],
   "source": [
    "ord_day = X_train.groupby(['Date_of_Order','Registered_Device_ID']).agg({'Order_ID':'count'}).reset_index()\n",
    "ord_day = ord_day[ord_day['Order_ID'] > 1]\n",
    "ord_day['Mult_orders_same_time'] = 1\n",
    "ord_day['Mult_orders_same_time'] = ord_day['Mult_orders_same_time'].astype('category')\n",
    "ord_day.drop(['Order_ID'],axis=1,inplace=True)\n",
    "ord_day.head()"
   ]
  },
  {
   "cell_type": "code",
   "execution_count": 230,
   "metadata": {},
   "outputs": [],
   "source": [
    "X_train = pd.merge(X_train, ord_day, how='left', on = ['Date_of_Order','Registered_Device_ID'])"
   ]
  },
  {
   "cell_type": "code",
   "execution_count": 231,
   "metadata": {},
   "outputs": [
    {
     "data": {
      "text/html": [
       "<div>\n",
       "<style scoped>\n",
       "    .dataframe tbody tr th:only-of-type {\n",
       "        vertical-align: middle;\n",
       "    }\n",
       "\n",
       "    .dataframe tbody tr th {\n",
       "        vertical-align: top;\n",
       "    }\n",
       "\n",
       "    .dataframe thead th {\n",
       "        text-align: right;\n",
       "    }\n",
       "</style>\n",
       "<table border=\"1\" class=\"dataframe\">\n",
       "  <thead>\n",
       "    <tr style=\"text-align: right;\">\n",
       "      <th></th>\n",
       "      <th>Customer_ID</th>\n",
       "      <th>Order_ID</th>\n",
       "      <th>Date_of_Order</th>\n",
       "      <th>Order_Value_USD</th>\n",
       "      <th>Order_Source</th>\n",
       "      <th>Order_Payment_Method</th>\n",
       "      <th>Merchant_ID</th>\n",
       "      <th>Ecommerce_Provider_ID</th>\n",
       "      <th>Merchant_Registration_Date</th>\n",
       "      <th>Registered_Device_ID</th>\n",
       "      <th>Gender</th>\n",
       "      <th>Age</th>\n",
       "      <th>IP_Address</th>\n",
       "      <th>Multiple_Merchants</th>\n",
       "      <th>target</th>\n",
       "      <th>Ip_Addr_Multi_Reg</th>\n",
       "      <th>Mult_orders_same_time</th>\n",
       "    </tr>\n",
       "  </thead>\n",
       "  <tbody>\n",
       "    <tr>\n",
       "      <th>0</th>\n",
       "      <td>146782</td>\n",
       "      <td>49f7c4ea1adb</td>\n",
       "      <td>5/28/2018 0:35</td>\n",
       "      <td>70</td>\n",
       "      <td>Direct</td>\n",
       "      <td>Credit Card</td>\n",
       "      <td>22531</td>\n",
       "      <td>1746213</td>\n",
       "      <td>2018-05-22 05:02:24</td>\n",
       "      <td>RDBBSYOZOTNNI</td>\n",
       "      <td>F</td>\n",
       "      <td>34</td>\n",
       "      <td>49.38.152.230</td>\n",
       "      <td>NaN</td>\n",
       "      <td>0.0</td>\n",
       "      <td>NaN</td>\n",
       "      <td>NaN</td>\n",
       "    </tr>\n",
       "    <tr>\n",
       "      <th>1</th>\n",
       "      <td>143435</td>\n",
       "      <td>982010b97be1</td>\n",
       "      <td>7/2/2018 1:29</td>\n",
       "      <td>205</td>\n",
       "      <td>SEO</td>\n",
       "      <td>E-wallet</td>\n",
       "      <td>212149</td>\n",
       "      <td>1746213</td>\n",
       "      <td>2018-05-28 13:22:13</td>\n",
       "      <td>HLRZPHDJYOTEI</td>\n",
       "      <td>M</td>\n",
       "      <td>32</td>\n",
       "      <td>224.255.145.206</td>\n",
       "      <td>NaN</td>\n",
       "      <td>NaN</td>\n",
       "      <td>NaN</td>\n",
       "      <td>NaN</td>\n",
       "    </tr>\n",
       "    <tr>\n",
       "      <th>2</th>\n",
       "      <td>128804</td>\n",
       "      <td>5dbd4945e855</td>\n",
       "      <td>7/9/2018 8:23</td>\n",
       "      <td>42</td>\n",
       "      <td>Direct</td>\n",
       "      <td>Debit Card</td>\n",
       "      <td>215246</td>\n",
       "      <td>1746213</td>\n",
       "      <td>2018-04-05 08:36:39</td>\n",
       "      <td>DHZBQWFMRWXRC</td>\n",
       "      <td>M</td>\n",
       "      <td>40</td>\n",
       "      <td>40.88.97.124</td>\n",
       "      <td>NaN</td>\n",
       "      <td>1.0</td>\n",
       "      <td>NaN</td>\n",
       "      <td>NaN</td>\n",
       "    </tr>\n",
       "    <tr>\n",
       "      <th>3</th>\n",
       "      <td>116427</td>\n",
       "      <td>1c436a716085</td>\n",
       "      <td>9/18/2018 13:42</td>\n",
       "      <td>42</td>\n",
       "      <td>Ads</td>\n",
       "      <td>E-wallet</td>\n",
       "      <td>233609</td>\n",
       "      <td>1746213</td>\n",
       "      <td>2018-08-10 23:32:40</td>\n",
       "      <td>JAYGFJLAWREMI</td>\n",
       "      <td>F</td>\n",
       "      <td>37</td>\n",
       "      <td>152.58.223.10</td>\n",
       "      <td>NaN</td>\n",
       "      <td>0.0</td>\n",
       "      <td>NaN</td>\n",
       "      <td>NaN</td>\n",
       "    </tr>\n",
       "    <tr>\n",
       "      <th>4</th>\n",
       "      <td>131271</td>\n",
       "      <td>d182930c0879</td>\n",
       "      <td>8/24/2018 21:38</td>\n",
       "      <td>242</td>\n",
       "      <td>Ads</td>\n",
       "      <td>Credit Card</td>\n",
       "      <td>89251</td>\n",
       "      <td>1746213</td>\n",
       "      <td>2018-06-04 09:40:52</td>\n",
       "      <td>FIHLNBGCNAIRA</td>\n",
       "      <td>F</td>\n",
       "      <td>40</td>\n",
       "      <td>110.3.131.79</td>\n",
       "      <td>NaN</td>\n",
       "      <td>0.0</td>\n",
       "      <td>NaN</td>\n",
       "      <td>NaN</td>\n",
       "    </tr>\n",
       "  </tbody>\n",
       "</table>\n",
       "</div>"
      ],
      "text/plain": [
       "   Customer_ID      Order_ID    Date_of_Order  Order_Value_USD Order_Source  \\\n",
       "0       146782  49f7c4ea1adb   5/28/2018 0:35               70       Direct   \n",
       "1       143435  982010b97be1    7/2/2018 1:29              205          SEO   \n",
       "2       128804  5dbd4945e855    7/9/2018 8:23               42       Direct   \n",
       "3       116427  1c436a716085  9/18/2018 13:42               42          Ads   \n",
       "4       131271  d182930c0879  8/24/2018 21:38              242          Ads   \n",
       "\n",
       "  Order_Payment_Method  Merchant_ID  Ecommerce_Provider_ID  \\\n",
       "0          Credit Card        22531                1746213   \n",
       "1             E-wallet       212149                1746213   \n",
       "2           Debit Card       215246                1746213   \n",
       "3             E-wallet       233609                1746213   \n",
       "4          Credit Card        89251                1746213   \n",
       "\n",
       "  Merchant_Registration_Date Registered_Device_ID Gender  Age  \\\n",
       "0        2018-05-22 05:02:24        RDBBSYOZOTNNI      F   34   \n",
       "1        2018-05-28 13:22:13        HLRZPHDJYOTEI      M   32   \n",
       "2        2018-04-05 08:36:39        DHZBQWFMRWXRC      M   40   \n",
       "3        2018-08-10 23:32:40        JAYGFJLAWREMI      F   37   \n",
       "4        2018-06-04 09:40:52        FIHLNBGCNAIRA      F   40   \n",
       "\n",
       "        IP_Address Multiple_Merchants  target Ip_Addr_Multi_Reg  \\\n",
       "0    49.38.152.230                NaN     0.0               NaN   \n",
       "1  224.255.145.206                NaN     NaN               NaN   \n",
       "2     40.88.97.124                NaN     1.0               NaN   \n",
       "3    152.58.223.10                NaN     0.0               NaN   \n",
       "4     110.3.131.79                NaN     0.0               NaN   \n",
       "\n",
       "  Mult_orders_same_time  \n",
       "0                   NaN  \n",
       "1                   NaN  \n",
       "2                   NaN  \n",
       "3                   NaN  \n",
       "4                   NaN  "
      ]
     },
     "execution_count": 231,
     "metadata": {},
     "output_type": "execute_result"
    }
   ],
   "source": [
    "X_train.head()"
   ]
  },
  {
   "cell_type": "code",
   "execution_count": 232,
   "metadata": {},
   "outputs": [],
   "source": [
    "### DROPPING COLUMNS \n",
    "X_train.drop(['target','Customer_ID','Order_ID','Date_of_Order','Merchant_ID','Ecommerce_Provider_ID','Merchant_Registration_Date','Registered_Device_ID','IP_Address'],axis=1,inplace=True)"
   ]
  },
  {
   "cell_type": "code",
   "execution_count": 233,
   "metadata": {
    "scrolled": true
   },
   "outputs": [
    {
     "data": {
      "text/plain": [
       "Order_Value_USD             int64\n",
       "Order_Source               object\n",
       "Order_Payment_Method       object\n",
       "Gender                     object\n",
       "Age                         int64\n",
       "Multiple_Merchants       category\n",
       "Ip_Addr_Multi_Reg        category\n",
       "Mult_orders_same_time    category\n",
       "dtype: object"
      ]
     },
     "execution_count": 233,
     "metadata": {},
     "output_type": "execute_result"
    }
   ],
   "source": [
    "X_train.dtypes"
   ]
  },
  {
   "cell_type": "code",
   "execution_count": 234,
   "metadata": {},
   "outputs": [
    {
     "data": {
      "text/html": [
       "<div>\n",
       "<style scoped>\n",
       "    .dataframe tbody tr th:only-of-type {\n",
       "        vertical-align: middle;\n",
       "    }\n",
       "\n",
       "    .dataframe tbody tr th {\n",
       "        vertical-align: top;\n",
       "    }\n",
       "\n",
       "    .dataframe thead th {\n",
       "        text-align: right;\n",
       "    }\n",
       "</style>\n",
       "<table border=\"1\" class=\"dataframe\">\n",
       "  <thead>\n",
       "    <tr style=\"text-align: right;\">\n",
       "      <th></th>\n",
       "      <th>Order_Value_USD</th>\n",
       "      <th>Order_Source</th>\n",
       "      <th>Order_Payment_Method</th>\n",
       "      <th>Gender</th>\n",
       "      <th>Age</th>\n",
       "      <th>Multiple_Merchants</th>\n",
       "      <th>Ip_Addr_Multi_Reg</th>\n",
       "      <th>Mult_orders_same_time</th>\n",
       "    </tr>\n",
       "  </thead>\n",
       "  <tbody>\n",
       "    <tr>\n",
       "      <th>0</th>\n",
       "      <td>70</td>\n",
       "      <td>Direct</td>\n",
       "      <td>Credit Card</td>\n",
       "      <td>F</td>\n",
       "      <td>34</td>\n",
       "      <td>NaN</td>\n",
       "      <td>NaN</td>\n",
       "      <td>NaN</td>\n",
       "    </tr>\n",
       "    <tr>\n",
       "      <th>1</th>\n",
       "      <td>205</td>\n",
       "      <td>SEO</td>\n",
       "      <td>E-wallet</td>\n",
       "      <td>M</td>\n",
       "      <td>32</td>\n",
       "      <td>NaN</td>\n",
       "      <td>NaN</td>\n",
       "      <td>NaN</td>\n",
       "    </tr>\n",
       "    <tr>\n",
       "      <th>2</th>\n",
       "      <td>42</td>\n",
       "      <td>Direct</td>\n",
       "      <td>Debit Card</td>\n",
       "      <td>M</td>\n",
       "      <td>40</td>\n",
       "      <td>NaN</td>\n",
       "      <td>NaN</td>\n",
       "      <td>NaN</td>\n",
       "    </tr>\n",
       "    <tr>\n",
       "      <th>3</th>\n",
       "      <td>42</td>\n",
       "      <td>Ads</td>\n",
       "      <td>E-wallet</td>\n",
       "      <td>F</td>\n",
       "      <td>37</td>\n",
       "      <td>NaN</td>\n",
       "      <td>NaN</td>\n",
       "      <td>NaN</td>\n",
       "    </tr>\n",
       "    <tr>\n",
       "      <th>4</th>\n",
       "      <td>242</td>\n",
       "      <td>Ads</td>\n",
       "      <td>Credit Card</td>\n",
       "      <td>F</td>\n",
       "      <td>40</td>\n",
       "      <td>NaN</td>\n",
       "      <td>NaN</td>\n",
       "      <td>NaN</td>\n",
       "    </tr>\n",
       "  </tbody>\n",
       "</table>\n",
       "</div>"
      ],
      "text/plain": [
       "   Order_Value_USD Order_Source Order_Payment_Method Gender  Age  \\\n",
       "0               70       Direct          Credit Card      F   34   \n",
       "1              205          SEO             E-wallet      M   32   \n",
       "2               42       Direct           Debit Card      M   40   \n",
       "3               42          Ads             E-wallet      F   37   \n",
       "4              242          Ads          Credit Card      F   40   \n",
       "\n",
       "  Multiple_Merchants Ip_Addr_Multi_Reg Mult_orders_same_time  \n",
       "0                NaN               NaN                   NaN  \n",
       "1                NaN               NaN                   NaN  \n",
       "2                NaN               NaN                   NaN  \n",
       "3                NaN               NaN                   NaN  \n",
       "4                NaN               NaN                   NaN  "
      ]
     },
     "execution_count": 234,
     "metadata": {},
     "output_type": "execute_result"
    }
   ],
   "source": [
    "X_train.head()"
   ]
  },
  {
   "cell_type": "markdown",
   "metadata": {},
   "source": [
    "### SCALING "
   ]
  },
  {
   "cell_type": "code",
   "execution_count": 235,
   "metadata": {},
   "outputs": [
    {
     "name": "stderr",
     "output_type": "stream",
     "text": [
      "C:\\Users\\karth\\Anaconda3\\lib\\site-packages\\sklearn\\preprocessing\\data.py:617: DataConversionWarning: Data with input dtype int64 were all converted to float64 by StandardScaler.\n",
      "  return self.partial_fit(X, y)\n",
      "C:\\Users\\karth\\Anaconda3\\lib\\site-packages\\ipykernel_launcher.py:6: DataConversionWarning: Data with input dtype int64 were all converted to float64 by StandardScaler.\n",
      "  \n"
     ]
    }
   ],
   "source": [
    "from sklearn.preprocessing import StandardScaler\n",
    "#X_train.loc[:,['Order_Value_USD','Age']]\n",
    "scaler = StandardScaler()\n",
    "scaler.fit(X_train.loc[:,['Order_Value_USD','Age']])\n",
    "\n",
    "X_train.loc[:,['Order_Value_USD','Age']] = scaler.transform(X_train.loc[:,['Order_Value_USD','Age']])\n",
    "#X_test.iloc[:,:5] = scaler.transform(X_test.loc[:,['Order_Value_USD','Age']])"
   ]
  },
  {
   "cell_type": "code",
   "execution_count": 236,
   "metadata": {},
   "outputs": [
    {
     "data": {
      "text/html": [
       "<div>\n",
       "<style scoped>\n",
       "    .dataframe tbody tr th:only-of-type {\n",
       "        vertical-align: middle;\n",
       "    }\n",
       "\n",
       "    .dataframe tbody tr th {\n",
       "        vertical-align: top;\n",
       "    }\n",
       "\n",
       "    .dataframe thead th {\n",
       "        text-align: right;\n",
       "    }\n",
       "</style>\n",
       "<table border=\"1\" class=\"dataframe\">\n",
       "  <thead>\n",
       "    <tr style=\"text-align: right;\">\n",
       "      <th></th>\n",
       "      <th>Order_Value_USD</th>\n",
       "      <th>Order_Source</th>\n",
       "      <th>Order_Payment_Method</th>\n",
       "      <th>Gender</th>\n",
       "      <th>Age</th>\n",
       "      <th>Multiple_Merchants</th>\n",
       "      <th>Ip_Addr_Multi_Reg</th>\n",
       "      <th>Mult_orders_same_time</th>\n",
       "    </tr>\n",
       "  </thead>\n",
       "  <tbody>\n",
       "    <tr>\n",
       "      <th>0</th>\n",
       "      <td>-0.484556</td>\n",
       "      <td>Direct</td>\n",
       "      <td>Credit Card</td>\n",
       "      <td>F</td>\n",
       "      <td>0.100811</td>\n",
       "      <td>NaN</td>\n",
       "      <td>NaN</td>\n",
       "      <td>NaN</td>\n",
       "    </tr>\n",
       "    <tr>\n",
       "      <th>1</th>\n",
       "      <td>2.475841</td>\n",
       "      <td>SEO</td>\n",
       "      <td>E-wallet</td>\n",
       "      <td>M</td>\n",
       "      <td>-0.131313</td>\n",
       "      <td>NaN</td>\n",
       "      <td>NaN</td>\n",
       "      <td>NaN</td>\n",
       "    </tr>\n",
       "    <tr>\n",
       "      <th>2</th>\n",
       "      <td>-1.098565</td>\n",
       "      <td>Direct</td>\n",
       "      <td>Debit Card</td>\n",
       "      <td>M</td>\n",
       "      <td>0.797182</td>\n",
       "      <td>NaN</td>\n",
       "      <td>NaN</td>\n",
       "      <td>NaN</td>\n",
       "    </tr>\n",
       "    <tr>\n",
       "      <th>3</th>\n",
       "      <td>-1.098565</td>\n",
       "      <td>Ads</td>\n",
       "      <td>E-wallet</td>\n",
       "      <td>F</td>\n",
       "      <td>0.448997</td>\n",
       "      <td>NaN</td>\n",
       "      <td>NaN</td>\n",
       "      <td>NaN</td>\n",
       "    </tr>\n",
       "    <tr>\n",
       "      <th>4</th>\n",
       "      <td>3.287209</td>\n",
       "      <td>Ads</td>\n",
       "      <td>Credit Card</td>\n",
       "      <td>F</td>\n",
       "      <td>0.797182</td>\n",
       "      <td>NaN</td>\n",
       "      <td>NaN</td>\n",
       "      <td>NaN</td>\n",
       "    </tr>\n",
       "  </tbody>\n",
       "</table>\n",
       "</div>"
      ],
      "text/plain": [
       "   Order_Value_USD Order_Source Order_Payment_Method Gender       Age  \\\n",
       "0        -0.484556       Direct          Credit Card      F  0.100811   \n",
       "1         2.475841          SEO             E-wallet      M -0.131313   \n",
       "2        -1.098565       Direct           Debit Card      M  0.797182   \n",
       "3        -1.098565          Ads             E-wallet      F  0.448997   \n",
       "4         3.287209          Ads          Credit Card      F  0.797182   \n",
       "\n",
       "  Multiple_Merchants Ip_Addr_Multi_Reg Mult_orders_same_time  \n",
       "0                NaN               NaN                   NaN  \n",
       "1                NaN               NaN                   NaN  \n",
       "2                NaN               NaN                   NaN  \n",
       "3                NaN               NaN                   NaN  \n",
       "4                NaN               NaN                   NaN  "
      ]
     },
     "execution_count": 236,
     "metadata": {},
     "output_type": "execute_result"
    }
   ],
   "source": [
    "X_train.head()"
   ]
  },
  {
   "cell_type": "code",
   "execution_count": 238,
   "metadata": {
    "scrolled": false
   },
   "outputs": [],
   "source": [
    "X_train['Multiple_Merchants'] = X_train['Multiple_Merchants'].cat.add_categories([0])\n",
    "X_train['Ip_Addr_Multi_Reg'] = X_train['Ip_Addr_Multi_Reg'].cat.add_categories([0])\n",
    "X_train['Mult_orders_same_time'] = X_train['Mult_orders_same_time'].cat.add_categories([0])\n",
    "\n",
    "X_train['Multiple_Merchants'].fillna(0,inplace=True)\n",
    "X_train['Ip_Addr_Multi_Reg'].fillna(0,inplace=True)\n",
    "X_train['Mult_orders_same_time'].fillna(0,inplace=True)"
   ]
  },
  {
   "cell_type": "code",
   "execution_count": 239,
   "metadata": {},
   "outputs": [
    {
     "data": {
      "text/plain": [
       "Order_Value_USD           float64\n",
       "Order_Source               object\n",
       "Order_Payment_Method       object\n",
       "Gender                     object\n",
       "Age                       float64\n",
       "Multiple_Merchants       category\n",
       "Ip_Addr_Multi_Reg        category\n",
       "Mult_orders_same_time    category\n",
       "dtype: object"
      ]
     },
     "execution_count": 239,
     "metadata": {},
     "output_type": "execute_result"
    }
   ],
   "source": [
    "X_train.dtypes"
   ]
  },
  {
   "cell_type": "markdown",
   "metadata": {},
   "source": [
    "### VISUALIZATION "
   ]
  },
  {
   "cell_type": "code",
   "execution_count": 95,
   "metadata": {},
   "outputs": [],
   "source": [
    "X_train['fraudster'] = y_train"
   ]
  },
  {
   "cell_type": "code",
   "execution_count": 97,
   "metadata": {},
   "outputs": [],
   "source": [
    "visual = X_train.groupby(['Multiple_Merchants','Mult_orders_same_time','Ip_Addr_Multi_Reg','fraudster']).size().reset_index()\n",
    "visual.to_csv(\"Visuals.csv\")"
   ]
  },
  {
   "cell_type": "markdown",
   "metadata": {},
   "source": [
    "#### Multiple_Merchants itself is explaining the fraudsters variable sufficiently; there isn't any new information found by Mult_orders_same_time,Ip_Addr_Multi_Reg. The rest two can be dropped "
   ]
  },
  {
   "cell_type": "code",
   "execution_count": 240,
   "metadata": {},
   "outputs": [],
   "source": [
    "X_train.drop(['Mult_orders_same_time','Ip_Addr_Multi_Reg'],axis=1,inplace=True)"
   ]
  },
  {
   "cell_type": "markdown",
   "metadata": {},
   "source": [
    "### DUMMYFICATION"
   ]
  },
  {
   "cell_type": "code",
   "execution_count": null,
   "metadata": {},
   "outputs": [],
   "source": [
    "#cleansed_data = pd.read_csv('cleansed-train.csv')\n",
    "cat_cols = [\"Order_Source\",\"Order_Payment_Method\",\"Gender\",\"Multiple_Merchants\"]\n",
    "X_train = pd.get_dummies(X_train,columns=cat_cols,drop_first=True,)"
   ]
  },
  {
   "cell_type": "code",
   "execution_count": 245,
   "metadata": {},
   "outputs": [
    {
     "data": {
      "text/plain": [
       "Order_Value_USD                          float64\n",
       "Age                                      float64\n",
       "Order_Source_Direct                        uint8\n",
       "Order_Source_SEO                           uint8\n",
       "Order_Payment_Method_Credit Card           uint8\n",
       "Order_Payment_Method_Debit Card            uint8\n",
       "Order_Payment_Method_E-wallet              uint8\n",
       "Order_Payment_Method_Internet Banking      uint8\n",
       "Gender_M                                   uint8\n",
       "Multiple_Merchants_0.0                     uint8\n",
       "dtype: object"
      ]
     },
     "execution_count": 245,
     "metadata": {},
     "output_type": "execute_result"
    }
   ],
   "source": [
    "X_train.dtypes"
   ]
  },
  {
   "cell_type": "code",
   "execution_count": 246,
   "metadata": {},
   "outputs": [
    {
     "data": {
      "text/html": [
       "<div>\n",
       "<style scoped>\n",
       "    .dataframe tbody tr th:only-of-type {\n",
       "        vertical-align: middle;\n",
       "    }\n",
       "\n",
       "    .dataframe tbody tr th {\n",
       "        vertical-align: top;\n",
       "    }\n",
       "\n",
       "    .dataframe thead th {\n",
       "        text-align: right;\n",
       "    }\n",
       "</style>\n",
       "<table border=\"1\" class=\"dataframe\">\n",
       "  <thead>\n",
       "    <tr style=\"text-align: right;\">\n",
       "      <th></th>\n",
       "      <th>Order_Value_USD</th>\n",
       "      <th>Age</th>\n",
       "      <th>Order_Source_Direct</th>\n",
       "      <th>Order_Source_SEO</th>\n",
       "      <th>Order_Payment_Method_Credit Card</th>\n",
       "      <th>Order_Payment_Method_Debit Card</th>\n",
       "      <th>Order_Payment_Method_E-wallet</th>\n",
       "      <th>Order_Payment_Method_Internet Banking</th>\n",
       "      <th>Gender_M</th>\n",
       "      <th>Multiple_Merchants_0.0</th>\n",
       "    </tr>\n",
       "  </thead>\n",
       "  <tbody>\n",
       "    <tr>\n",
       "      <th>0</th>\n",
       "      <td>-0.484556</td>\n",
       "      <td>0.100811</td>\n",
       "      <td>1</td>\n",
       "      <td>0</td>\n",
       "      <td>1</td>\n",
       "      <td>0</td>\n",
       "      <td>0</td>\n",
       "      <td>0</td>\n",
       "      <td>0</td>\n",
       "      <td>1</td>\n",
       "    </tr>\n",
       "    <tr>\n",
       "      <th>1</th>\n",
       "      <td>2.475841</td>\n",
       "      <td>-0.131313</td>\n",
       "      <td>0</td>\n",
       "      <td>1</td>\n",
       "      <td>0</td>\n",
       "      <td>0</td>\n",
       "      <td>1</td>\n",
       "      <td>0</td>\n",
       "      <td>1</td>\n",
       "      <td>1</td>\n",
       "    </tr>\n",
       "    <tr>\n",
       "      <th>2</th>\n",
       "      <td>-1.098565</td>\n",
       "      <td>0.797182</td>\n",
       "      <td>1</td>\n",
       "      <td>0</td>\n",
       "      <td>0</td>\n",
       "      <td>1</td>\n",
       "      <td>0</td>\n",
       "      <td>0</td>\n",
       "      <td>1</td>\n",
       "      <td>1</td>\n",
       "    </tr>\n",
       "    <tr>\n",
       "      <th>3</th>\n",
       "      <td>-1.098565</td>\n",
       "      <td>0.448997</td>\n",
       "      <td>0</td>\n",
       "      <td>0</td>\n",
       "      <td>0</td>\n",
       "      <td>0</td>\n",
       "      <td>1</td>\n",
       "      <td>0</td>\n",
       "      <td>0</td>\n",
       "      <td>1</td>\n",
       "    </tr>\n",
       "    <tr>\n",
       "      <th>4</th>\n",
       "      <td>3.287209</td>\n",
       "      <td>0.797182</td>\n",
       "      <td>0</td>\n",
       "      <td>0</td>\n",
       "      <td>1</td>\n",
       "      <td>0</td>\n",
       "      <td>0</td>\n",
       "      <td>0</td>\n",
       "      <td>0</td>\n",
       "      <td>1</td>\n",
       "    </tr>\n",
       "  </tbody>\n",
       "</table>\n",
       "</div>"
      ],
      "text/plain": [
       "   Order_Value_USD       Age  Order_Source_Direct  Order_Source_SEO  \\\n",
       "0        -0.484556  0.100811                    1                 0   \n",
       "1         2.475841 -0.131313                    0                 1   \n",
       "2        -1.098565  0.797182                    1                 0   \n",
       "3        -1.098565  0.448997                    0                 0   \n",
       "4         3.287209  0.797182                    0                 0   \n",
       "\n",
       "   Order_Payment_Method_Credit Card  Order_Payment_Method_Debit Card  \\\n",
       "0                                 1                                0   \n",
       "1                                 0                                0   \n",
       "2                                 0                                1   \n",
       "3                                 0                                0   \n",
       "4                                 1                                0   \n",
       "\n",
       "   Order_Payment_Method_E-wallet  Order_Payment_Method_Internet Banking  \\\n",
       "0                              0                                      0   \n",
       "1                              1                                      0   \n",
       "2                              0                                      0   \n",
       "3                              1                                      0   \n",
       "4                              0                                      0   \n",
       "\n",
       "   Gender_M  Multiple_Merchants_0.0  \n",
       "0         0                       1  \n",
       "1         1                       1  \n",
       "2         1                       1  \n",
       "3         0                       1  \n",
       "4         0                       1  "
      ]
     },
     "execution_count": 246,
     "metadata": {},
     "output_type": "execute_result"
    }
   ],
   "source": [
    "X_train.head()"
   ]
  },
  {
   "cell_type": "markdown",
   "metadata": {},
   "source": [
    "### PRE PROCESSING FOR VALIDATION DATA "
   ]
  },
  {
   "cell_type": "code",
   "execution_count": 247,
   "metadata": {},
   "outputs": [
    {
     "data": {
      "text/html": [
       "<div>\n",
       "<style scoped>\n",
       "    .dataframe tbody tr th:only-of-type {\n",
       "        vertical-align: middle;\n",
       "    }\n",
       "\n",
       "    .dataframe tbody tr th {\n",
       "        vertical-align: top;\n",
       "    }\n",
       "\n",
       "    .dataframe thead th {\n",
       "        text-align: right;\n",
       "    }\n",
       "</style>\n",
       "<table border=\"1\" class=\"dataframe\">\n",
       "  <thead>\n",
       "    <tr style=\"text-align: right;\">\n",
       "      <th></th>\n",
       "      <th>Customer_ID</th>\n",
       "      <th>Order_ID</th>\n",
       "      <th>Date_of_Order</th>\n",
       "      <th>Order_Value_USD</th>\n",
       "      <th>Order_Source</th>\n",
       "      <th>Order_Payment_Method</th>\n",
       "      <th>Merchant_ID</th>\n",
       "      <th>Ecommerce_Provider_ID</th>\n",
       "      <th>Merchant_Registration_Date</th>\n",
       "      <th>Registered_Device_ID</th>\n",
       "      <th>Gender</th>\n",
       "      <th>Age</th>\n",
       "      <th>IP_Address</th>\n",
       "    </tr>\n",
       "  </thead>\n",
       "  <tbody>\n",
       "    <tr>\n",
       "      <th>53491</th>\n",
       "      <td>152293</td>\n",
       "      <td>a3e5bf224ff8</td>\n",
       "      <td>3/14/2018 4:08</td>\n",
       "      <td>70</td>\n",
       "      <td>Ads</td>\n",
       "      <td>Internet Banking</td>\n",
       "      <td>272907</td>\n",
       "      <td>1746213</td>\n",
       "      <td>2018-02-06 09:49:05</td>\n",
       "      <td>GCQZBQVVIQNDJ</td>\n",
       "      <td>M</td>\n",
       "      <td>21</td>\n",
       "      <td>32.75.217.224</td>\n",
       "    </tr>\n",
       "    <tr>\n",
       "      <th>10587</th>\n",
       "      <td>145094</td>\n",
       "      <td>c81ecb04f8ce</td>\n",
       "      <td>7/8/2018 20:33</td>\n",
       "      <td>110</td>\n",
       "      <td>SEO</td>\n",
       "      <td>Credit Card</td>\n",
       "      <td>117336</td>\n",
       "      <td>1746213</td>\n",
       "      <td>2018-03-12 10:35:54</td>\n",
       "      <td>DGIOHTXRKTFMI</td>\n",
       "      <td>M</td>\n",
       "      <td>27</td>\n",
       "      <td>206.155.223.207</td>\n",
       "    </tr>\n",
       "    <tr>\n",
       "      <th>1086</th>\n",
       "      <td>161604</td>\n",
       "      <td>95cf2a8f46e7</td>\n",
       "      <td>5/5/2018 11:15</td>\n",
       "      <td>88</td>\n",
       "      <td>SEO</td>\n",
       "      <td>Internet Banking</td>\n",
       "      <td>73457</td>\n",
       "      <td>1746213</td>\n",
       "      <td>2018-04-24 12:55:58</td>\n",
       "      <td>YARRWPFDHEEMA</td>\n",
       "      <td>M</td>\n",
       "      <td>31</td>\n",
       "      <td>238.120.39.109</td>\n",
       "    </tr>\n",
       "    <tr>\n",
       "      <th>11422</th>\n",
       "      <td>143811</td>\n",
       "      <td>3b8d113c67e8</td>\n",
       "      <td>2/22/2018 5:21</td>\n",
       "      <td>122</td>\n",
       "      <td>SEO</td>\n",
       "      <td>Credit Card</td>\n",
       "      <td>201470</td>\n",
       "      <td>1746213</td>\n",
       "      <td>2018-01-25 19:22:41</td>\n",
       "      <td>AXONHDDPXULGP</td>\n",
       "      <td>F</td>\n",
       "      <td>26</td>\n",
       "      <td>41.161.53.4</td>\n",
       "    </tr>\n",
       "    <tr>\n",
       "      <th>45326</th>\n",
       "      <td>155266</td>\n",
       "      <td>d85c07f2683c</td>\n",
       "      <td>8/14/2018 15:42</td>\n",
       "      <td>35</td>\n",
       "      <td>SEO</td>\n",
       "      <td>Credit Card</td>\n",
       "      <td>305645</td>\n",
       "      <td>1746213</td>\n",
       "      <td>2018-07-15 04:14:37</td>\n",
       "      <td>PENJCCBHBLZUH</td>\n",
       "      <td>M</td>\n",
       "      <td>33</td>\n",
       "      <td>91.129.72.155</td>\n",
       "    </tr>\n",
       "  </tbody>\n",
       "</table>\n",
       "</div>"
      ],
      "text/plain": [
       "       Customer_ID      Order_ID    Date_of_Order  Order_Value_USD  \\\n",
       "53491       152293  a3e5bf224ff8   3/14/2018 4:08               70   \n",
       "10587       145094  c81ecb04f8ce   7/8/2018 20:33              110   \n",
       "1086        161604  95cf2a8f46e7   5/5/2018 11:15               88   \n",
       "11422       143811  3b8d113c67e8   2/22/2018 5:21              122   \n",
       "45326       155266  d85c07f2683c  8/14/2018 15:42               35   \n",
       "\n",
       "      Order_Source Order_Payment_Method  Merchant_ID  Ecommerce_Provider_ID  \\\n",
       "53491          Ads     Internet Banking       272907                1746213   \n",
       "10587          SEO          Credit Card       117336                1746213   \n",
       "1086           SEO     Internet Banking        73457                1746213   \n",
       "11422          SEO          Credit Card       201470                1746213   \n",
       "45326          SEO          Credit Card       305645                1746213   \n",
       "\n",
       "      Merchant_Registration_Date Registered_Device_ID Gender  Age  \\\n",
       "53491        2018-02-06 09:49:05        GCQZBQVVIQNDJ      M   21   \n",
       "10587        2018-03-12 10:35:54        DGIOHTXRKTFMI      M   27   \n",
       "1086         2018-04-24 12:55:58        YARRWPFDHEEMA      M   31   \n",
       "11422        2018-01-25 19:22:41        AXONHDDPXULGP      F   26   \n",
       "45326        2018-07-15 04:14:37        PENJCCBHBLZUH      M   33   \n",
       "\n",
       "            IP_Address  \n",
       "53491    32.75.217.224  \n",
       "10587  206.155.223.207  \n",
       "1086    238.120.39.109  \n",
       "11422      41.161.53.4  \n",
       "45326    91.129.72.155  "
      ]
     },
     "execution_count": 247,
     "metadata": {},
     "output_type": "execute_result"
    }
   ],
   "source": [
    "X_test.head()"
   ]
  },
  {
   "cell_type": "code",
   "execution_count": 248,
   "metadata": {},
   "outputs": [
    {
     "name": "stderr",
     "output_type": "stream",
     "text": [
      "C:\\Users\\karth\\Anaconda3\\lib\\site-packages\\ipykernel_launcher.py:13: DataConversionWarning: Data with input dtype int64 were all converted to float64 by StandardScaler.\n",
      "  del sys.path[0]\n"
     ]
    }
   ],
   "source": [
    "## Adding feauture \n",
    "X_test = pd.merge(X_test, device_id, how='left', on = 'Registered_Device_ID') #get the device-id level flags on train data\n",
    "\n",
    "### DROPPING COLUMNS\n",
    "\n",
    "X_test.drop(['Customer_ID','Order_ID','Date_of_Order','Merchant_ID','Ecommerce_Provider_ID','Merchant_Registration_Date','Registered_Device_ID','IP_Address'],axis=1,inplace=True)\n",
    "X_test['Multiple_Merchants'] = X_test['Multiple_Merchants'].cat.add_categories([0])\n",
    "\n",
    "# Fill NAs\n",
    "X_test['Multiple_Merchants'].fillna(0,inplace=True)\n",
    "\n",
    "#Scaling\n",
    "X_test.loc[:,['Order_Value_USD','Age']] = scaler.transform(X_test.loc[:,['Order_Value_USD','Age']])"
   ]
  },
  {
   "cell_type": "code",
   "execution_count": 249,
   "metadata": {},
   "outputs": [],
   "source": [
    "### DUMMYFICATION\n",
    "\n",
    "#cleansed_data = pd.read_csv('cleansed-train.csv')\n",
    "cat_cols = [\"Order_Source\",\"Order_Payment_Method\",\"Gender\",\"Multiple_Merchants\"]\n",
    "X_test = pd.get_dummies(X_test,columns=cat_cols,drop_first=True,)"
   ]
  },
  {
   "cell_type": "code",
   "execution_count": 250,
   "metadata": {},
   "outputs": [
    {
     "data": {
      "text/html": [
       "<div>\n",
       "<style scoped>\n",
       "    .dataframe tbody tr th:only-of-type {\n",
       "        vertical-align: middle;\n",
       "    }\n",
       "\n",
       "    .dataframe tbody tr th {\n",
       "        vertical-align: top;\n",
       "    }\n",
       "\n",
       "    .dataframe thead th {\n",
       "        text-align: right;\n",
       "    }\n",
       "</style>\n",
       "<table border=\"1\" class=\"dataframe\">\n",
       "  <thead>\n",
       "    <tr style=\"text-align: right;\">\n",
       "      <th></th>\n",
       "      <th>Order_Value_USD</th>\n",
       "      <th>Age</th>\n",
       "      <th>Order_Source_Direct</th>\n",
       "      <th>Order_Source_SEO</th>\n",
       "      <th>Order_Payment_Method_Credit Card</th>\n",
       "      <th>Order_Payment_Method_Debit Card</th>\n",
       "      <th>Order_Payment_Method_E-wallet</th>\n",
       "      <th>Order_Payment_Method_Internet Banking</th>\n",
       "      <th>Gender_M</th>\n",
       "      <th>Multiple_Merchants_0.0</th>\n",
       "    </tr>\n",
       "  </thead>\n",
       "  <tbody>\n",
       "    <tr>\n",
       "      <th>0</th>\n",
       "      <td>-0.484556</td>\n",
       "      <td>-1.407994</td>\n",
       "      <td>0</td>\n",
       "      <td>0</td>\n",
       "      <td>0</td>\n",
       "      <td>0</td>\n",
       "      <td>0</td>\n",
       "      <td>1</td>\n",
       "      <td>1</td>\n",
       "      <td>1</td>\n",
       "    </tr>\n",
       "    <tr>\n",
       "      <th>1</th>\n",
       "      <td>0.392599</td>\n",
       "      <td>-0.711622</td>\n",
       "      <td>0</td>\n",
       "      <td>1</td>\n",
       "      <td>1</td>\n",
       "      <td>0</td>\n",
       "      <td>0</td>\n",
       "      <td>0</td>\n",
       "      <td>1</td>\n",
       "      <td>1</td>\n",
       "    </tr>\n",
       "    <tr>\n",
       "      <th>2</th>\n",
       "      <td>-0.089837</td>\n",
       "      <td>-0.247375</td>\n",
       "      <td>0</td>\n",
       "      <td>1</td>\n",
       "      <td>0</td>\n",
       "      <td>0</td>\n",
       "      <td>0</td>\n",
       "      <td>1</td>\n",
       "      <td>1</td>\n",
       "      <td>1</td>\n",
       "    </tr>\n",
       "    <tr>\n",
       "      <th>3</th>\n",
       "      <td>0.655745</td>\n",
       "      <td>-0.827684</td>\n",
       "      <td>0</td>\n",
       "      <td>1</td>\n",
       "      <td>1</td>\n",
       "      <td>0</td>\n",
       "      <td>0</td>\n",
       "      <td>0</td>\n",
       "      <td>0</td>\n",
       "      <td>1</td>\n",
       "    </tr>\n",
       "    <tr>\n",
       "      <th>4</th>\n",
       "      <td>-1.252067</td>\n",
       "      <td>-0.015251</td>\n",
       "      <td>0</td>\n",
       "      <td>1</td>\n",
       "      <td>1</td>\n",
       "      <td>0</td>\n",
       "      <td>0</td>\n",
       "      <td>0</td>\n",
       "      <td>1</td>\n",
       "      <td>1</td>\n",
       "    </tr>\n",
       "  </tbody>\n",
       "</table>\n",
       "</div>"
      ],
      "text/plain": [
       "   Order_Value_USD       Age  Order_Source_Direct  Order_Source_SEO  \\\n",
       "0        -0.484556 -1.407994                    0                 0   \n",
       "1         0.392599 -0.711622                    0                 1   \n",
       "2        -0.089837 -0.247375                    0                 1   \n",
       "3         0.655745 -0.827684                    0                 1   \n",
       "4        -1.252067 -0.015251                    0                 1   \n",
       "\n",
       "   Order_Payment_Method_Credit Card  Order_Payment_Method_Debit Card  \\\n",
       "0                                 0                                0   \n",
       "1                                 1                                0   \n",
       "2                                 0                                0   \n",
       "3                                 1                                0   \n",
       "4                                 1                                0   \n",
       "\n",
       "   Order_Payment_Method_E-wallet  Order_Payment_Method_Internet Banking  \\\n",
       "0                              0                                      1   \n",
       "1                              0                                      0   \n",
       "2                              0                                      1   \n",
       "3                              0                                      0   \n",
       "4                              0                                      0   \n",
       "\n",
       "   Gender_M  Multiple_Merchants_0.0  \n",
       "0         1                       1  \n",
       "1         1                       1  \n",
       "2         1                       1  \n",
       "3         0                       1  \n",
       "4         1                       1  "
      ]
     },
     "execution_count": 250,
     "metadata": {},
     "output_type": "execute_result"
    }
   ],
   "source": [
    "X_test.head()"
   ]
  },
  {
   "cell_type": "code",
   "execution_count": 251,
   "metadata": {},
   "outputs": [
    {
     "data": {
      "text/plain": [
       "Order_Value_USD                          float64\n",
       "Age                                      float64\n",
       "Order_Source_Direct                        uint8\n",
       "Order_Source_SEO                           uint8\n",
       "Order_Payment_Method_Credit Card           uint8\n",
       "Order_Payment_Method_Debit Card            uint8\n",
       "Order_Payment_Method_E-wallet              uint8\n",
       "Order_Payment_Method_Internet Banking      uint8\n",
       "Gender_M                                   uint8\n",
       "Multiple_Merchants_0.0                     uint8\n",
       "dtype: object"
      ]
     },
     "execution_count": 251,
     "metadata": {},
     "output_type": "execute_result"
    }
   ],
   "source": [
    "X_train.dtypes"
   ]
  },
  {
   "cell_type": "code",
   "execution_count": 252,
   "metadata": {},
   "outputs": [
    {
     "data": {
      "text/plain": [
       "Order_Value_USD                          float64\n",
       "Age                                      float64\n",
       "Order_Source_Direct                        uint8\n",
       "Order_Source_SEO                           uint8\n",
       "Order_Payment_Method_Credit Card           uint8\n",
       "Order_Payment_Method_Debit Card            uint8\n",
       "Order_Payment_Method_E-wallet              uint8\n",
       "Order_Payment_Method_Internet Banking      uint8\n",
       "Gender_M                                   uint8\n",
       "Multiple_Merchants_0.0                     uint8\n",
       "dtype: object"
      ]
     },
     "execution_count": 252,
     "metadata": {},
     "output_type": "execute_result"
    }
   ],
   "source": [
    "X_test.dtypes"
   ]
  },
  {
   "cell_type": "markdown",
   "metadata": {},
   "source": [
    "### MODEL IMPLEMENTATION "
   ]
  },
  {
   "cell_type": "code",
   "execution_count": 253,
   "metadata": {},
   "outputs": [
    {
     "name": "stdout",
     "output_type": "stream",
     "text": [
      "X_MINI_TRAIN (2168, 10)\n",
      "X_MINI_TEST (41202, 10)\n",
      "Y_MINI_TRAIN (2168,)\n",
      "Y_MINI_TEST (41202,)\n"
     ]
    }
   ],
   "source": [
    "X_MINI_TRAIN, X_MINI_TEST, Y_MINI_TRAIN, Y_MINI_TEST = train_test_split(X_train, y_train, test_size=0.95,stratify=y_train,random_state=123)\n",
    "print('X_MINI_TRAIN',X_MINI_TRAIN.shape)\n",
    "print('X_MINI_TEST',X_MINI_TEST.shape)\n",
    "print('Y_MINI_TRAIN',Y_MINI_TRAIN.shape)\n",
    "print('Y_MINI_TEST',Y_MINI_TEST.shape)"
   ]
  },
  {
   "cell_type": "markdown",
   "metadata": {},
   "source": [
    "#### Below distribution shows this is a highly imbalanced class"
   ]
  },
  {
   "cell_type": "code",
   "execution_count": 254,
   "metadata": {},
   "outputs": [
    {
     "name": "stdout",
     "output_type": "stream",
     "text": [
      "0    0.907288\n",
      "1    0.092712\n",
      "Name: Fraudster, dtype: float64\n",
      "0    0.907309\n",
      "1    0.092691\n",
      "Name: Fraudster, dtype: float64\n"
     ]
    }
   ],
   "source": [
    "#VERIFY Y POPULATION%%\n",
    "print(Y_MINI_TRAIN.value_counts()/Y_MINI_TRAIN.count())\n",
    "print(y_train.value_counts()/y_train.count())"
   ]
  },
  {
   "cell_type": "code",
   "execution_count": 255,
   "metadata": {},
   "outputs": [],
   "source": [
    "del([X_MINI_TEST,Y_MINI_TEST])"
   ]
  },
  {
   "cell_type": "markdown",
   "metadata": {},
   "source": [
    "#### model1 - XGBOOST "
   ]
  },
  {
   "cell_type": "code",
   "execution_count": 258,
   "metadata": {},
   "outputs": [],
   "source": [
    "from sklearn.metrics import f1_score"
   ]
  },
  {
   "cell_type": "code",
   "execution_count": 259,
   "metadata": {},
   "outputs": [
    {
     "data": {
      "text/plain": [
       "XGBClassifier(base_score=0.5, booster='gbtree', colsample_bylevel=1,\n",
       "       colsample_bynode=1, colsample_bytree=0.9, gamma=0,\n",
       "       learning_rate=0.1, max_delta_step=0, max_depth=10,\n",
       "       min_child_weight=1, missing=None, n_estimators=200, n_jobs=-1,\n",
       "       nthread=None, objective='binary:logistic', random_state=123,\n",
       "       reg_alpha=0, reg_lambda=1, scale_pos_weight=9, seed=None,\n",
       "       silent=None, subsample=1, verbosity=1)"
      ]
     },
     "execution_count": 259,
     "metadata": {},
     "output_type": "execute_result"
    }
   ],
   "source": [
    "from xgboost import XGBClassifier\n",
    "XGB_model1 = XGBClassifier(colsample_bytree = 0.9, max_depth=10, n_estimators=200,random_state=123,scale_pos_weight=9,n_jobs=-1)\n",
    "XGB_model1.fit(X_train, y_train)"
   ]
  },
  {
   "cell_type": "code",
   "execution_count": 260,
   "metadata": {},
   "outputs": [
    {
     "name": "stdout",
     "output_type": "stream",
     "text": [
      "XGBM Mode1 - Training Error -  0.7371173330428152\n",
      "XGBM Mode1 - Validation Error -  0.5093292990418559\n"
     ]
    }
   ],
   "source": [
    "train_preds = XGB_model1.predict(X_train)\n",
    "trainingscore_xgb1 = f1_score(y_train,train_preds)\n",
    "print(\"XGBM Mode1 - Training Error - \",trainingscore_xgb1)\n",
    "\n",
    "y_preds = XGB_model1.predict(X_test)\n",
    "f1_score_xgb1 = f1_score(y_test,y_preds)\n",
    "print(\"XGBM Mode1 - Validation Error - \",f1_score_xgb1)"
   ]
  },
  {
   "cell_type": "code",
   "execution_count": 261,
   "metadata": {},
   "outputs": [],
   "source": [
    "## Overfitting - reduce max depth & increased learning rate "
   ]
  },
  {
   "cell_type": "code",
   "execution_count": 262,
   "metadata": {},
   "outputs": [
    {
     "data": {
      "text/plain": [
       "XGBClassifier(base_score=0.5, booster='gbtree', colsample_bylevel=1,\n",
       "       colsample_bynode=1, colsample_bytree=0.9, gamma=0,\n",
       "       learning_rate=0.3, max_delta_step=0, max_depth=5,\n",
       "       min_child_weight=1, missing=None, n_estimators=200, n_jobs=-1,\n",
       "       nthread=None, objective='binary:logistic', random_state=123,\n",
       "       reg_alpha=0, reg_lambda=1, scale_pos_weight=9, seed=None,\n",
       "       silent=None, subsample=1, verbosity=1)"
      ]
     },
     "execution_count": 262,
     "metadata": {},
     "output_type": "execute_result"
    }
   ],
   "source": [
    "from xgboost import XGBClassifier\n",
    "XGB_model1 = XGBClassifier(colsample_bytree = 0.9, max_depth=5, n_estimators=200,random_state=123,scale_pos_weight=9,n_jobs=-1,learning_rate=0.3)\n",
    "XGB_model1.fit(X_train, y_train)"
   ]
  },
  {
   "cell_type": "code",
   "execution_count": 263,
   "metadata": {},
   "outputs": [
    {
     "name": "stdout",
     "output_type": "stream",
     "text": [
      "XGBM Mode1 - Training Error -  0.6383081570996978\n",
      "XGBM Mode1 - Validation Error -  0.5197112715158245\n"
     ]
    }
   ],
   "source": [
    "train_preds = XGB_model1.predict(X_train)\n",
    "trainingscore_xgb1 = f1_score(y_train,train_preds)\n",
    "print(\"XGBM Mode1 - Training Error - \",trainingscore_xgb1)\n",
    "\n",
    "y_preds = XGB_model1.predict(X_test)\n",
    "f1_score_xgb1 = f1_score(y_test,y_preds)\n",
    "print(\"XGBM Mode1 - Validation Error - \",f1_score_xgb1)"
   ]
  },
  {
   "cell_type": "code",
   "execution_count": 264,
   "metadata": {},
   "outputs": [],
   "source": [
    "## Reduced colsample_bytree"
   ]
  },
  {
   "cell_type": "code",
   "execution_count": 265,
   "metadata": {},
   "outputs": [
    {
     "data": {
      "text/plain": [
       "XGBClassifier(base_score=0.5, booster='gbtree', colsample_bylevel=1,\n",
       "       colsample_bynode=1, colsample_bytree=0.5, gamma=0,\n",
       "       learning_rate=0.1, max_delta_step=0, max_depth=5,\n",
       "       min_child_weight=1, missing=None, n_estimators=200, n_jobs=-1,\n",
       "       nthread=None, objective='binary:logistic', random_state=123,\n",
       "       reg_alpha=0, reg_lambda=1, scale_pos_weight=9, seed=None,\n",
       "       silent=None, subsample=1, verbosity=1)"
      ]
     },
     "execution_count": 265,
     "metadata": {},
     "output_type": "execute_result"
    }
   ],
   "source": [
    "from xgboost import XGBClassifier\n",
    "XGB_model1 = XGBClassifier(colsample_bytree = 0.5, max_depth=5, n_estimators=200,random_state=123,scale_pos_weight=9,n_jobs=-1)\n",
    "XGB_model1.fit(X_train, y_train)\n"
   ]
  },
  {
   "cell_type": "code",
   "execution_count": 266,
   "metadata": {},
   "outputs": [
    {
     "name": "stdout",
     "output_type": "stream",
     "text": [
      "XGBM Mode1 - Training Error -  0.6331312017640573\n",
      "XGBM Mode1 - Validation Error -  0.5754152823920266\n"
     ]
    }
   ],
   "source": [
    "train_preds = XGB_model1.predict(X_train)\n",
    "trainingscore_xgb1 = f1_score(y_train,train_preds)\n",
    "print(\"XGBM Mode1 - Training Error - \",trainingscore_xgb1)\n",
    "\n",
    "y_preds = XGB_model1.predict(X_test)\n",
    "f1_score_xgb1 = f1_score(y_test,y_preds)\n",
    "print(\"XGBM Mode1 - Validation Error - \",f1_score_xgb1)"
   ]
  },
  {
   "cell_type": "code",
   "execution_count": 267,
   "metadata": {},
   "outputs": [],
   "source": [
    "#increased max_depth & reduced  n_estimators"
   ]
  },
  {
   "cell_type": "code",
   "execution_count": 268,
   "metadata": {},
   "outputs": [
    {
     "data": {
      "text/plain": [
       "XGBClassifier(base_score=0.5, booster='gbtree', colsample_bylevel=1,\n",
       "       colsample_bynode=1, colsample_bytree=0.5, gamma=0,\n",
       "       learning_rate=0.1, max_delta_step=0, max_depth=7,\n",
       "       min_child_weight=1, missing=None, n_estimators=150, n_jobs=-1,\n",
       "       nthread=None, objective='binary:logistic', random_state=123,\n",
       "       reg_alpha=0, reg_lambda=1, scale_pos_weight=9, seed=None,\n",
       "       silent=None, subsample=1, verbosity=1)"
      ]
     },
     "execution_count": 268,
     "metadata": {},
     "output_type": "execute_result"
    }
   ],
   "source": [
    "from xgboost import XGBClassifier\n",
    "XGB_model1 = XGBClassifier(colsample_bytree = 0.5, max_depth=7, n_estimators=150,random_state=123,scale_pos_weight=9,n_jobs=-1)\n",
    "XGB_model1.fit(X_train, y_train)"
   ]
  },
  {
   "cell_type": "code",
   "execution_count": 269,
   "metadata": {},
   "outputs": [
    {
     "name": "stdout",
     "output_type": "stream",
     "text": [
      "XGBM Mode1 - Training Error -  0.6357974546439209\n",
      "XGBM Mode1 - Validation Error -  0.5675324675324674\n"
     ]
    }
   ],
   "source": [
    "train_preds = XGB_model1.predict(X_train)\n",
    "trainingscore_xgb1 = f1_score(y_train,train_preds)\n",
    "print(\"XGBM Mode1 - Training Error - \",trainingscore_xgb1)\n",
    "\n",
    "y_preds = XGB_model1.predict(X_test)\n",
    "f1_score_xgb1 = f1_score(y_test,y_preds)\n",
    "print(\"XGBM Mode1 - Validation Error - \",f1_score_xgb1)"
   ]
  },
  {
   "cell_type": "code",
   "execution_count": 270,
   "metadata": {},
   "outputs": [],
   "source": [
    "#Increase n_estimators & colsample"
   ]
  },
  {
   "cell_type": "code",
   "execution_count": 271,
   "metadata": {},
   "outputs": [
    {
     "data": {
      "text/plain": [
       "XGBClassifier(base_score=0.5, booster='gbtree', colsample_bylevel=1,\n",
       "       colsample_bynode=1, colsample_bytree=0.7, gamma=0,\n",
       "       learning_rate=0.1, max_delta_step=0, max_depth=7,\n",
       "       min_child_weight=1, missing=None, n_estimators=220, n_jobs=-1,\n",
       "       nthread=None, objective='binary:logistic', random_state=123,\n",
       "       reg_alpha=0, reg_lambda=1, scale_pos_weight=9, seed=None,\n",
       "       silent=None, subsample=1, verbosity=1)"
      ]
     },
     "execution_count": 271,
     "metadata": {},
     "output_type": "execute_result"
    }
   ],
   "source": [
    "from xgboost import XGBClassifier\n",
    "XGB_model1 = XGBClassifier(colsample_bytree = 0.7, max_depth=7, n_estimators=220,random_state=123,scale_pos_weight=9,n_jobs=-1)\n",
    "XGB_model1.fit(X_train, y_train)"
   ]
  },
  {
   "cell_type": "code",
   "execution_count": 272,
   "metadata": {},
   "outputs": [
    {
     "name": "stdout",
     "output_type": "stream",
     "text": [
      "XGBM Mode1 - Training Error -  0.6508141638666322\n",
      "XGBM Mode1 - Validation Error -  0.5436893203883496\n"
     ]
    }
   ],
   "source": [
    "train_preds = XGB_model1.predict(X_train)\n",
    "trainingscore_xgb1 = f1_score(y_train,train_preds)\n",
    "print(\"XGBM Mode1 - Training Error - \",trainingscore_xgb1)\n",
    "\n",
    "y_preds = XGB_model1.predict(X_test)\n",
    "f1_score_xgb1 = f1_score(y_test,y_preds)\n",
    "print(\"XGBM Mode1 - Validation Error - \",f1_score_xgb1)"
   ]
  },
  {
   "cell_type": "code",
   "execution_count": null,
   "metadata": {},
   "outputs": [],
   "source": []
  },
  {
   "cell_type": "code",
   "execution_count": 273,
   "metadata": {},
   "outputs": [
    {
     "data": {
      "text/plain": [
       "XGBClassifier(base_score=0.5, booster='gbtree', colsample_bylevel=1,\n",
       "       colsample_bynode=1, colsample_bytree=0.4, gamma=0,\n",
       "       learning_rate=0.1, max_delta_step=0, max_depth=5,\n",
       "       min_child_weight=1, missing=None, n_estimators=150, n_jobs=-1,\n",
       "       nthread=None, objective='binary:logistic', random_state=123,\n",
       "       reg_alpha=0, reg_lambda=1, scale_pos_weight=9, seed=None,\n",
       "       silent=None, subsample=1, verbosity=1)"
      ]
     },
     "execution_count": 273,
     "metadata": {},
     "output_type": "execute_result"
    }
   ],
   "source": [
    "from xgboost import XGBClassifier\n",
    "XGB_model1 = XGBClassifier(colsample_bytree = 0.4, max_depth=5, n_estimators=150,random_state=123,scale_pos_weight=9,n_jobs=-1)\n",
    "XGB_model1.fit(X_train, y_train)"
   ]
  },
  {
   "cell_type": "code",
   "execution_count": 274,
   "metadata": {},
   "outputs": [
    {
     "name": "stdout",
     "output_type": "stream",
     "text": [
      "XGBM Mode1 - Training Error -  0.6307606885063853\n",
      "XGBM Mode1 - Validation Error -  0.5781041388518023\n"
     ]
    }
   ],
   "source": [
    "train_preds = XGB_model1.predict(X_train)\n",
    "trainingscore_xgb1 = f1_score(y_train,train_preds)\n",
    "print(\"XGBM Mode1 - Training Error - \",trainingscore_xgb1)\n",
    "\n",
    "y_preds = XGB_model1.predict(X_test)\n",
    "f1_score_xgb1 = f1_score(y_test,y_preds)\n",
    "print(\"XGBM Mode1 - Validation Error - \",f1_score_xgb1)"
   ]
  },
  {
   "cell_type": "code",
   "execution_count": null,
   "metadata": {},
   "outputs": [],
   "source": [
    "## CHOSEN MODEL w LEAST VALIDATION ERROR \n",
    "XGBClassifier(base_score=0.5, booster='gbtree', colsample_bylevel=1,\n",
    "       colsample_bynode=1, colsample_bytree=0.4, gamma=0,\n",
    "       learning_rate=0.1, max_delta_step=0, max_depth=5,\n",
    "       min_child_weight=1, missing=None, n_estimators=150, n_jobs=-1,\n",
    "       nthread=None, objective='binary:logistic', random_state=123,\n",
    "       reg_alpha=0, reg_lambda=1, scale_pos_weight=9, seed=None,\n",
    "       silent=None, subsample=1, verbosity=1)"
   ]
  },
  {
   "cell_type": "markdown",
   "metadata": {},
   "source": [
    "### SVM MODEL "
   ]
  },
  {
   "cell_type": "code",
   "execution_count": 275,
   "metadata": {},
   "outputs": [],
   "source": [
    "from sklearn.svm import SVC\n"
   ]
  },
  {
   "cell_type": "code",
   "execution_count": 276,
   "metadata": {},
   "outputs": [
    {
     "data": {
      "text/plain": [
       "SVC(C=1.0, cache_size=200, class_weight='balanced', coef0=0.0,\n",
       "  decision_function_shape='ovr', degree=3, gamma='auto_deprecated',\n",
       "  kernel='linear', max_iter=-1, probability=False, random_state=123,\n",
       "  shrinking=True, tol=0.001, verbose=False)"
      ]
     },
     "execution_count": 276,
     "metadata": {},
     "output_type": "execute_result"
    }
   ],
   "source": [
    "svc = SVC(kernel='linear', class_weight='balanced', C=1.0, random_state=123)\n",
    "svc.fit(X_train,y_train)"
   ]
  },
  {
   "cell_type": "code",
   "execution_count": 277,
   "metadata": {},
   "outputs": [
    {
     "name": "stdout",
     "output_type": "stream",
     "text": [
      "SVM Mode1 - Training Error -  0.6284838350055741\n",
      "SVM Mode1 - Validation Error -  0.5815983881799865\n"
     ]
    }
   ],
   "source": [
    "train_preds = svc.predict(X_train)\n",
    "trainingscore_svc = f1_score(y_train,train_preds)\n",
    "print(\"SVM Mode1 - Training Error - \",trainingscore_svc)\n",
    "\n",
    "y_preds = svc.predict(X_test)\n",
    "f1_score_svc = f1_score(y_test,y_preds)\n",
    "print(\"SVM Mode1 - Validation Error - \",f1_score_svc)"
   ]
  },
  {
   "cell_type": "markdown",
   "metadata": {},
   "source": [
    "### SVC Run 2 "
   ]
  },
  {
   "cell_type": "code",
   "execution_count": 278,
   "metadata": {},
   "outputs": [
    {
     "data": {
      "text/plain": [
       "SVC(C=1.0, cache_size=200, class_weight='balanced', coef0=0.0,\n",
       "  decision_function_shape='ovr', degree=3, gamma=0.1, kernel='sigmoid',\n",
       "  max_iter=-1, probability=False, random_state=123, shrinking=True,\n",
       "  tol=0.001, verbose=False)"
      ]
     },
     "execution_count": 278,
     "metadata": {},
     "output_type": "execute_result"
    }
   ],
   "source": [
    "svc = SVC(kernel='sigmoid', class_weight='balanced', C=1.0,gamma=0.1, random_state=123)\n",
    "svc.fit(X_train,y_train)"
   ]
  },
  {
   "cell_type": "code",
   "execution_count": 279,
   "metadata": {},
   "outputs": [
    {
     "name": "stdout",
     "output_type": "stream",
     "text": [
      "SVM Mode1 - Training Error -  0.2683318286688735\n",
      "SVM Mode1 - Validation Error -  0.24142886470950523\n"
     ]
    }
   ],
   "source": [
    "train_preds = svc.predict(X_train)\n",
    "trainingscore_svc = f1_score(y_train,train_preds)\n",
    "print(\"SVM Mode1 - Training Error - \",trainingscore_svc)\n",
    "\n",
    "y_preds = svc.predict(X_test)\n",
    "f1_score_svc = f1_score(y_test,y_preds)\n",
    "print(\"SVM Mode1 - Validation Error - \",f1_score_svc)"
   ]
  },
  {
   "cell_type": "markdown",
   "metadata": {},
   "source": [
    "### SVM 3 "
   ]
  },
  {
   "cell_type": "code",
   "execution_count": 281,
   "metadata": {},
   "outputs": [
    {
     "data": {
      "text/plain": [
       "SVC(C=3.0, cache_size=200, class_weight='balanced', coef0=0.0,\n",
       "  decision_function_shape='ovr', degree=3, gamma='auto_deprecated',\n",
       "  kernel='linear', max_iter=-1, probability=False, random_state=123,\n",
       "  shrinking=True, tol=0.001, verbose=False)"
      ]
     },
     "execution_count": 281,
     "metadata": {},
     "output_type": "execute_result"
    }
   ],
   "source": [
    "svc = SVC(kernel='linear', class_weight='balanced', C=3.0, random_state=123)\n",
    "svc.fit(X_train,y_train)"
   ]
  },
  {
   "cell_type": "code",
   "execution_count": 282,
   "metadata": {},
   "outputs": [
    {
     "name": "stdout",
     "output_type": "stream",
     "text": [
      "SVM Mode1 - Training Error -  0.6284838350055741\n",
      "SVM Mode1 - Validation Error -  0.5815983881799865\n"
     ]
    }
   ],
   "source": [
    "train_preds = svc.predict(X_train)\n",
    "trainingscore_svc = f1_score(y_train,train_preds)\n",
    "print(\"SVM Mode1 - Training Error - \",trainingscore_svc)\n",
    "\n",
    "y_preds = svc.predict(X_test)\n",
    "f1_score_svc = f1_score(y_test,y_preds)\n",
    "print(\"SVM Mode1 - Validation Error - \",f1_score_svc)"
   ]
  },
  {
   "cell_type": "markdown",
   "metadata": {},
   "source": [
    "### SVC MODEL 3"
   ]
  },
  {
   "cell_type": "code",
   "execution_count": 283,
   "metadata": {},
   "outputs": [
    {
     "data": {
      "text/plain": [
       "SVC(C=6.0, cache_size=200, class_weight='balanced', coef0=0.0,\n",
       "  decision_function_shape='ovr', degree=3, gamma='auto_deprecated',\n",
       "  kernel='linear', max_iter=-1, probability=False, random_state=123,\n",
       "  shrinking=True, tol=0.001, verbose=False)"
      ]
     },
     "execution_count": 283,
     "metadata": {},
     "output_type": "execute_result"
    }
   ],
   "source": [
    "svc = SVC(kernel='linear', class_weight='balanced', C=6.0, random_state=123)\n",
    "svc.fit(X_train,y_train)\n"
   ]
  },
  {
   "cell_type": "code",
   "execution_count": 285,
   "metadata": {},
   "outputs": [
    {
     "name": "stdout",
     "output_type": "stream",
     "text": [
      "SVM Mode1 - Training Error -  0.6284838350055741\n",
      "SVM Mode1 - Validation Error -  0.5815983881799865\n"
     ]
    }
   ],
   "source": [
    "train_preds = svc.predict(X_train)\n",
    "trainingscore_svc = f1_score(y_train,train_preds)\n",
    "print(\"SVM Mode1 - Training Error - \",trainingscore_svc)\n",
    "\n",
    "y_preds = svc.predict(X_test)\n",
    "f1_score_svc = f1_score(y_test,y_preds)\n",
    "print(\"SVM Mode1 - Validation Error - \",f1_score_svc)"
   ]
  },
  {
   "cell_type": "code",
   "execution_count": null,
   "metadata": {},
   "outputs": [],
   "source": []
  }
 ],
 "metadata": {
  "kernelspec": {
   "display_name": "Python 3",
   "language": "python",
   "name": "python3"
  },
  "language_info": {
   "codemirror_mode": {
    "name": "ipython",
    "version": 3
   },
   "file_extension": ".py",
   "mimetype": "text/x-python",
   "name": "python",
   "nbconvert_exporter": "python",
   "pygments_lexer": "ipython3",
   "version": "3.6.5"
  }
 },
 "nbformat": 4,
 "nbformat_minor": 2
}
